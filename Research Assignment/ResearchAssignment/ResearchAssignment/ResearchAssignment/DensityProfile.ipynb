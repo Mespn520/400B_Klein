{
 "cells": [
  {
   "cell_type": "code",
   "execution_count": 147,
   "metadata": {},
   "outputs": [
    {
     "data": {
      "text/plain": [
       "'\\nCode by Michael Klein\\nASTR400B\\nThis code will answer the questions outlined by Dr. Gurtina in her ResearchAssignment PDF. Specifically,\\nwe will compute the density profile of the disk/bulge of the M31/MW remnant using a Mass-to-Light ratio of 1.\\nWe will then compare it to a sersic profile(Lab 6) and ###Question about Concentration### including before the \\nmerger and right before final coalescence.\\n'"
      ]
     },
     "execution_count": 147,
     "metadata": {},
     "output_type": "execute_result"
    }
   ],
   "source": [
    "\"\"\"\n",
    "Code by Michael Klein\n",
    "ASTR400B\n",
    "This code will answer the questions outlined by Dr. Gurtina in her ResearchAssignment PDF. Specifically,\n",
    "we will compute the density profile of the disk/bulge of the M31/MW remnant using a Mass-to-Light ratio of 1.\n",
    "We will then compare it to a sersic profile(Lab 6) and ###Question about Concentration### including before the \n",
    "merger and right before final coalescence.\n",
    "\"\"\""
   ]
  },
  {
   "cell_type": "code",
   "execution_count": 148,
   "metadata": {
    "scrolled": false
   },
   "outputs": [],
   "source": [
    "# Import relevant modules\n",
    "import numpy as np\n",
    "import matplotlib\n",
    "import matplotlib.pyplot as plt\n",
    "import astropy.units as u\n",
    "from MassDistributionRes import MassProfile # This will be used for the Sersic profile comparison as well as for \n",
    "# the density profile\n",
    "from ReadFile import read # This will read files\n",
    "from CenterOfMass import CenterOfMass # This will import the center of mass position and velocity functions\n",
    "# ADD MORE IF NEEDED\n"
   ]
  },
  {
   "cell_type": "code",
   "execution_count": 149,
   "metadata": {},
   "outputs": [],
   "source": [
    "# Lab 6 \n",
    "# Create an instance of the mass profile class for MW and M31\n",
    "MW = MassProfile('MW',0)\n",
    "M31 = MassProfile('M31',0)\n",
    "# Create an array of radii from 0.1 kpc to 30 kpc in increments of 0.1\n",
    "r = np.arange(0.1,30,0.1)"
   ]
  },
  {
   "cell_type": "code",
   "execution_count": 150,
   "metadata": {},
   "outputs": [],
   "source": [
    "# Define a new array DiskMass and BulgeMass for MW and M31 respectively that uses MassEnclosed within \n",
    "# MassDistributionRes to compute the mass profile of the disk and bulge\n",
    "DiskMassMW = MW.MassEnclosed(2,r) \n",
    "DiskMassM31 = M31.MassEnclosed(2,r) \n",
    "BulgeMassMW = MW.MassEnclosed(3,r)\n",
    "BulgeMassM31 = M31.MassEnclosed(3,r)"
   ]
  },
  {
   "cell_type": "code",
   "execution_count": 151,
   "metadata": {},
   "outputs": [],
   "source": [
    "# Compute the density profile using I = L/(4*pi*d**2) if we are assuming M/L~1, where I is apparent brightness\n",
    "DiskIMW = DiskMassMW/4/np.pi/r**2\n",
    "DiskIM31 = DiskMassM31/4/np.pi/r**2\n",
    "BulgeIMW = BulgeMassMW/4/np.pi/r**2\n",
    "BulgeIM31 = BulgeMassM31/4/np.pi/r**2"
   ]
  },
  {
   "cell_type": "code",
   "execution_count": 152,
   "metadata": {},
   "outputs": [],
   "source": [
    "# Computing the half-light radius/half-mass radius, since we are assuming M/L~1\n",
    "DiskTotalMW = np.max(DiskMassMW)\n",
    "DiskTotalM31 = np.max(DiskMassM31)\n",
    "BulgeTotalMW = np.max(BulgeMassMW)\n",
    "BulgeTotalM31 = np.max(BulgeMassM31)"
   ]
  },
  {
   "cell_type": "code",
   "execution_count": 153,
   "metadata": {},
   "outputs": [],
   "source": [
    "DiskMWLow = DiskTotalMW/2 # Low half-mass\n",
    "DiskM31Low = DiskTotalM31/2\n",
    "BulgeMWLow = BulgeTotalMW/2\n",
    "BulgeM31Low = BulgeTotalM31/2\n",
    "DiskMWHigh = DiskTotalMW/2 + DiskTotalMW/2*0.01 # High half-mass\n",
    "DiskM31High = DiskTotalM31/2 + DiskTotalM31/2*0.01\n",
    "BulgeMWHigh = BulgeTotalMW/2 + BulgeTotalMW/2*0.01\n",
    "BulgeM31High = BulgeTotalM31/2 + BulgeTotalM31/2*0.01"
   ]
  },
  {
   "cell_type": "code",
   "execution_count": 154,
   "metadata": {},
   "outputs": [],
   "source": [
    "# Indices that will chose where DiskMass and BulgeMass are less than the high value or greater than the low value\n",
    "index1 = np.where(DiskMassMW > DiskMWLow) #& (DiskMassMW < DiskMWHigh) ) \n",
    "index2 = np.where(DiskMassM31 > DiskM31Low) #& (DiskMassM31 < DiskM31High) )\n",
    "index3 = np.where(BulgeMassMW > BulgeMWLow) #& (BulgeMassMW < BulgeMWHigh) )\n",
    "index4 = np.where(BulgeMassM31 > BulgeM31Low) #& (BulgeMassM31 < BulgeM31High) )\n",
    "#print(index1)\n",
    "#print(index2)\n",
    "#print(index3)\n",
    "#print(index4)"
   ]
  },
  {
   "cell_type": "code",
   "execution_count": 155,
   "metadata": {},
   "outputs": [],
   "source": [
    "# The half-mass radius Re\n",
    "Re1 = r[index1][0]\n",
    "Re2 = r[index2][0]\n",
    "Re3 = r[index3][0]\n",
    "Re4 = r[index4][0]\n",
    "#print(Re1)\n",
    "### Could I use this to determine the actual M/L ratio? ###"
   ]
  },
  {
   "cell_type": "code",
   "execution_count": 156,
   "metadata": {},
   "outputs": [],
   "source": [
    "# The Sersic profile from Lab 6\n",
    "\"\"\"A function that returns the Sersic Profile in terms of the effective radus (the half-light radius) \n",
    "for an elliptical system \"\"\"\n",
    "def BulgeSersic1(r, Re1, n, Mtot):\n",
    "    \"\"\" Inputs:\n",
    " Re : effective radius or half-light radius (kpc)\n",
    " n : the Sersic index\n",
    " R : array of radii (kpc)\n",
    " Mtot : the total stellar mass (Msun)\n",
    " Returns:\n",
    " Surface brightness profile in (Lsun/kpc**2)\n",
    " \n",
    " Assuming the M/L ~ 1\"\"\"\n",
    "    L = Mtot # Total luminosity is equal to the total stellar mass\n",
    "    \n",
    "    # Ie = L / (7.2 * pi * Re**2)\n",
    "    Ie = L / (7.2 * np.pi * Re1**2)\n",
    "    \n",
    "    # The exponent\n",
    "    A = (r/Re1)**(1/n) - 1\n",
    "    \n",
    "    return Ie*np.exp(-7.67*A)"
   ]
  },
  {
   "cell_type": "code",
   "execution_count": 157,
   "metadata": {},
   "outputs": [],
   "source": [
    "# The Sersic profile from Lab 6\n",
    "\"\"\"A function that returns the Sersic Profile in terms of the effective radus (the half-light radius) \n",
    "for an elliptical system \"\"\"\n",
    "def BulgeSersic2(r, Re2, n, Mtot):\n",
    "    \"\"\" Inputs:\n",
    " Re : effective radius or half-light radius (kpc)\n",
    " n : the Sersic index\n",
    " R : array of radii (kpc)\n",
    " Mtot : the total stellar mass (Msun)\n",
    " Returns:\n",
    " Surface brightness profile in (Lsun/kpc**2)\n",
    " \n",
    " Assuming the M/L ~ 1\"\"\"\n",
    "    L = Mtot # Total luminosity is equal to the total stellar mass\n",
    "    \n",
    "    # Ie = L / (7.2 * pi * Re**2)\n",
    "    Ie = L / (7.2 * np.pi * Re2**2)\n",
    "    \n",
    "    # The exponent\n",
    "    A = (r/Re2)**(1/n) - 1\n",
    "    \n",
    "    return Ie*np.exp(-7.67*A)"
   ]
  },
  {
   "cell_type": "code",
   "execution_count": 158,
   "metadata": {},
   "outputs": [],
   "source": [
    "# The Sersic profile from Lab 6\n",
    "\"\"\"A function that returns the Sersic Profile in terms of the effective radus (the half-light radius) \n",
    "for an elliptical system \"\"\"\n",
    "def BulgeSersic3(r, Re3, n, Mtot):\n",
    "    \"\"\" Inputs:\n",
    " Re : effective radius or half-light radius (kpc)\n",
    " n : the Sersic index\n",
    " R : array of radii (kpc)\n",
    " Mtot : the total stellar mass (Msun)\n",
    " Returns:\n",
    " Surface brightness profile in (Lsun/kpc**2)\n",
    " \n",
    " Assuming the M/L ~ 1\"\"\"\n",
    "    L = Mtot # Total luminosity is equal to the total stellar mass\n",
    "    \n",
    "    # Ie = L / (7.2 * pi * Re**2)\n",
    "    Ie = L / (7.2 * np.pi * Re3**2)\n",
    "    \n",
    "    # The exponent\n",
    "    A = (r/Re3)**(1/n) - 1\n",
    "    \n",
    "    return Ie*np.exp(-7.67*A)"
   ]
  },
  {
   "cell_type": "code",
   "execution_count": 159,
   "metadata": {},
   "outputs": [],
   "source": [
    "# The Sersic profile from Lab 6\n",
    "\"\"\"A function that returns the Sersic Profile in terms of the effective radus (the half-light radius) \n",
    "for an elliptical system \"\"\"\n",
    "def BulgeSersic4(r, Re4, n, Mtot):\n",
    "    \"\"\" Inputs:\n",
    " Re : effective radius or half-light radius (kpc)\n",
    " n : the Sersic index\n",
    " R : array of radii (kpc)\n",
    " Mtot : the total stellar mass (Msun)\n",
    " Returns:\n",
    " Surface brightness profile in (Lsun/kpc**2)\n",
    " \n",
    " Assuming the M/L ~ 1\"\"\"\n",
    "    L = Mtot # Total luminosity is equal to the total stellar mass\n",
    "    \n",
    "    # Ie = L / (7.2 * pi * Re**2)\n",
    "    Ie = L / (7.2 * np.pi * Re4**2)\n",
    "    \n",
    "    # The exponent\n",
    "    A = (r/Re4)**(1/n) - 1\n",
    "    \n",
    "    return Ie*np.exp(-7.67*A)"
   ]
  },
  {
   "cell_type": "code",
   "execution_count": 160,
   "metadata": {},
   "outputs": [
    {
     "data": {
      "text/latex": [
       "$[1.6699966 \\times 10^{10},~9.6221033 \\times 10^{9},~6.6484022 \\times 10^{9},~\\dots,~1716401.1,~1699034.2,~1681886] \\; \\mathrm{M_{\\odot}}$"
      ],
      "text/plain": [
       "<Quantity [1.66999664e+10, 9.62210328e+09, 6.64840224e+09, 4.99481749e+09,\n",
       "           3.94313184e+09, 3.21802325e+09, 2.69010841e+09, 2.29030032e+09,\n",
       "           1.97828977e+09, 1.72896673e+09, 1.52587861e+09, 1.35780245e+09,\n",
       "           1.21682660e+09, 1.09721872e+09, 9.94727931e+08, 9.06138470e+08,\n",
       "           8.28975176e+08, 7.61303789e+08, 7.01592312e+08, 6.48612760e+08,\n",
       "           6.01370204e+08, 5.59050706e+08, 5.20982512e+08, 4.86606766e+08,\n",
       "           4.55455110e+08, 4.27132382e+08, 4.01303096e+08, 3.77680792e+08,\n",
       "           3.56019559e+08, 3.36107249e+08, 3.17759986e+08, 3.00817712e+08,\n",
       "           2.85140528e+08, 2.70605693e+08, 2.57105129e+08, 2.44543344e+08,\n",
       "           2.32835700e+08, 2.21906949e+08, 2.11689996e+08, 2.02124860e+08,\n",
       "           1.93157770e+08, 1.84740413e+08, 1.76829271e+08, 1.69385058e+08,\n",
       "           1.62372236e+08, 1.55758586e+08, 1.49514847e+08, 1.43614387e+08,\n",
       "           1.38032930e+08, 1.32748303e+08, 1.27740227e+08, 1.22990119e+08,\n",
       "           1.18480926e+08, 1.14196979e+08, 1.10123856e+08, 1.06248265e+08,\n",
       "           1.02557942e+08, 9.90415544e+07, 9.56886172e+07, 9.24894190e+07,\n",
       "           8.94349544e+07, 8.65168626e+07, 8.37273735e+07, 8.10592576e+07,\n",
       "           7.85057823e+07, 7.60606710e+07, 7.37180666e+07, 7.14724986e+07,\n",
       "           6.93188527e+07, 6.72523434e+07, 6.52684894e+07, 6.33630900e+07,\n",
       "           6.15322051e+07, 5.97721356e+07, 5.80794062e+07, 5.64507493e+07,\n",
       "           5.48830905e+07, 5.33735351e+07, 5.19193552e+07, 5.05179793e+07,\n",
       "           4.91669808e+07, 4.78640689e+07, 4.66070793e+07, 4.53939665e+07,\n",
       "           4.42227953e+07, 4.30917345e+07, 4.19990499e+07, 4.09430984e+07,\n",
       "           3.99223225e+07, 3.89352446e+07, 3.79804625e+07, 3.70566449e+07,\n",
       "           3.61625270e+07, 3.52969068e+07, 3.44586410e+07, 3.36466423e+07,\n",
       "           3.28598754e+07, 3.20973547e+07, 3.13581411e+07, 3.06413397e+07,\n",
       "           2.99460970e+07, 2.92715992e+07, 2.86170693e+07, 2.79817658e+07,\n",
       "           2.73649803e+07, 2.67660362e+07, 2.61842866e+07, 2.56191130e+07,\n",
       "           2.50699240e+07, 2.45361535e+07, 2.40172597e+07, 2.35127236e+07,\n",
       "           2.30220485e+07, 2.25447581e+07, 2.20803959e+07, 2.16285244e+07,\n",
       "           2.11887238e+07, 2.07605913e+07, 2.03437404e+07, 1.99378001e+07,\n",
       "           1.95424140e+07, 1.91572398e+07, 1.87819486e+07, 1.84162241e+07,\n",
       "           1.80597624e+07, 1.77122713e+07, 1.73734694e+07, 1.70430862e+07,\n",
       "           1.67208612e+07, 1.64065438e+07, 1.60998923e+07, 1.58006742e+07,\n",
       "           1.55086655e+07, 1.52236501e+07, 1.49454199e+07, 1.46737742e+07,\n",
       "           1.44085192e+07, 1.41494684e+07, 1.38964415e+07, 1.36492646e+07,\n",
       "           1.34077698e+07, 1.31717952e+07, 1.29411841e+07, 1.27157853e+07,\n",
       "           1.24954529e+07, 1.22800456e+07, 1.20694270e+07, 1.18634652e+07,\n",
       "           1.16620328e+07, 1.14650062e+07, 1.12722663e+07, 1.10836975e+07,\n",
       "           1.08991882e+07, 1.07186303e+07, 1.05419191e+07, 1.03689532e+07,\n",
       "           1.01996345e+07, 1.00338679e+07, 9.87156136e+06, 9.71262565e+06,\n",
       "           9.55697427e+06, 9.40452342e+06, 9.25519183e+06, 9.10890072e+06,\n",
       "           8.96557370e+06, 8.82513664e+06, 8.68751768e+06, 8.55264706e+06,\n",
       "           8.42045710e+06, 8.29088211e+06, 8.16385834e+06, 8.03932388e+06,\n",
       "           7.91721863e+06, 7.79748420e+06, 7.68006393e+06, 7.56490272e+06,\n",
       "           7.45194707e+06, 7.34114500e+06, 7.23244597e+06, 7.12580087e+06,\n",
       "           7.02116197e+06, 6.91848284e+06, 6.81771835e+06, 6.71882462e+06,\n",
       "           6.62175895e+06, 6.52647982e+06, 6.43294682e+06, 6.34112064e+06,\n",
       "           6.25096303e+06, 6.16243675e+06, 6.07550557e+06, 5.99013420e+06,\n",
       "           5.90628830e+06, 5.82393441e+06, 5.74303997e+06, 5.66357325e+06,\n",
       "           5.58550334e+06, 5.50880014e+06, 5.43343432e+06, 5.35937729e+06,\n",
       "           5.28660121e+06, 5.21507891e+06, 5.14478395e+06, 5.07569052e+06,\n",
       "           5.00777346e+06, 4.94100826e+06, 4.87537100e+06, 4.81083836e+06,\n",
       "           4.74738758e+06, 4.68499646e+06, 4.62364337e+06, 4.56330717e+06,\n",
       "           4.50396725e+06, 4.44560350e+06, 4.38819627e+06, 4.33172641e+06,\n",
       "           4.27617522e+06, 4.22152442e+06, 4.16775619e+06, 4.11485311e+06,\n",
       "           4.06279818e+06, 4.01157480e+06, 3.96116675e+06, 3.91155818e+06,\n",
       "           3.86273361e+06, 3.81467792e+06, 3.76737635e+06, 3.72081444e+06,\n",
       "           3.67497809e+06, 3.62985351e+06, 3.58542721e+06, 3.54168604e+06,\n",
       "           3.49861709e+06, 3.45620779e+06, 3.41444581e+06, 3.37331912e+06,\n",
       "           3.33281593e+06, 3.29292475e+06, 3.25363429e+06, 3.21493355e+06,\n",
       "           3.17681174e+06, 3.13925832e+06, 3.10226298e+06, 3.06581562e+06,\n",
       "           3.02990636e+06, 2.99452554e+06, 2.95966369e+06, 2.92531155e+06,\n",
       "           2.89146006e+06, 2.85810035e+06, 2.82522373e+06, 2.79282168e+06,\n",
       "           2.76088590e+06, 2.72940821e+06, 2.69838064e+06, 2.66779536e+06,\n",
       "           2.63764471e+06, 2.60792119e+06, 2.57861745e+06, 2.54972630e+06,\n",
       "           2.52124067e+06, 2.49315365e+06, 2.46545848e+06, 2.43814852e+06,\n",
       "           2.41121726e+06, 2.38465834e+06, 2.35846550e+06, 2.33263263e+06,\n",
       "           2.30715372e+06, 2.28202289e+06, 2.25723439e+06, 2.23278254e+06,\n",
       "           2.20866181e+06, 2.18486676e+06, 2.16139206e+06, 2.13823249e+06,\n",
       "           2.11538292e+06, 2.09283832e+06, 2.07059376e+06, 2.04864440e+06,\n",
       "           2.02698550e+06, 2.00561241e+06, 1.98452055e+06, 1.96370545e+06,\n",
       "           1.94316270e+06, 1.92288801e+06, 1.90287713e+06, 1.88312590e+06,\n",
       "           1.86363026e+06, 1.84438620e+06, 1.82538980e+06, 1.80663719e+06,\n",
       "           1.78812460e+06, 1.76984831e+06, 1.75180467e+06, 1.73399010e+06,\n",
       "           1.71640109e+06, 1.69903419e+06, 1.68188600e+06] solMass>"
      ]
     },
     "execution_count": 160,
     "metadata": {},
     "output_type": "execute_result"
    }
   ],
   "source": [
    "BulgeSersic1(r,Re1,4,DiskTotalMW)"
   ]
  },
  {
   "cell_type": "code",
   "execution_count": 161,
   "metadata": {},
   "outputs": [
    {
     "ename": "TypeError",
     "evalue": "loop of ufunc does not support argument 0 of type numpy.ndarray which has no callable exp method",
     "output_type": "error",
     "traceback": [
      "\u001b[0;31m---------------------------------------------------------------------------\u001b[0m",
      "\u001b[0;31mAttributeError\u001b[0m                            Traceback (most recent call last)",
      "\u001b[0;31mAttributeError\u001b[0m: 'numpy.ndarray' object has no attribute 'exp'",
      "\nThe above exception was the direct cause of the following exception:\n",
      "\u001b[0;31mTypeError\u001b[0m                                 Traceback (most recent call last)",
      "\u001b[0;32m<ipython-input-161-00bb0695372c>\u001b[0m in \u001b[0;36m<module>\u001b[0;34m\u001b[0m\n\u001b[1;32m      7\u001b[0m \u001b[0mplt\u001b[0m\u001b[0;34m.\u001b[0m\u001b[0msemilogy\u001b[0m\u001b[0;34m(\u001b[0m\u001b[0mr\u001b[0m\u001b[0;34m,\u001b[0m\u001b[0mDiskIMW\u001b[0m\u001b[0;34m,\u001b[0m \u001b[0mcolor\u001b[0m\u001b[0;34m=\u001b[0m\u001b[0;34m'black'\u001b[0m\u001b[0;34m,\u001b[0m\u001b[0mlinewidth\u001b[0m\u001b[0;34m=\u001b[0m\u001b[0;36m3\u001b[0m\u001b[0;34m,\u001b[0m \u001b[0mlabel\u001b[0m\u001b[0;34m=\u001b[0m\u001b[0;34m'MW Disk Density'\u001b[0m\u001b[0;34m)\u001b[0m\u001b[0;34m\u001b[0m\u001b[0;34m\u001b[0m\u001b[0m\n\u001b[1;32m      8\u001b[0m \u001b[0mplt\u001b[0m\u001b[0;34m.\u001b[0m\u001b[0msemilogy\u001b[0m\u001b[0;34m(\u001b[0m\u001b[0mr\u001b[0m\u001b[0;34m,\u001b[0m\u001b[0mDiskIM31\u001b[0m\u001b[0;34m,\u001b[0m \u001b[0mcolor\u001b[0m\u001b[0;34m=\u001b[0m\u001b[0;34m'black'\u001b[0m\u001b[0;34m,\u001b[0m\u001b[0mlinewidth\u001b[0m\u001b[0;34m=\u001b[0m\u001b[0;36m3\u001b[0m\u001b[0;34m,\u001b[0m \u001b[0mlabel\u001b[0m\u001b[0;34m=\u001b[0m\u001b[0;34m'M31 Disk Density'\u001b[0m\u001b[0;34m)\u001b[0m\u001b[0;34m\u001b[0m\u001b[0;34m\u001b[0m\u001b[0m\n\u001b[0;32m----> 9\u001b[0;31m \u001b[0mplt\u001b[0m\u001b[0;34m.\u001b[0m\u001b[0msemilogy\u001b[0m\u001b[0;34m(\u001b[0m\u001b[0mRe\u001b[0m\u001b[0;34m[\u001b[0m\u001b[0;36m0\u001b[0m\u001b[0;34m]\u001b[0m\u001b[0;34m,\u001b[0m \u001b[0mBulgeSersic\u001b[0m\u001b[0;34m(\u001b[0m\u001b[0mr\u001b[0m\u001b[0;34m,\u001b[0m\u001b[0mRe\u001b[0m\u001b[0;34m[\u001b[0m\u001b[0;36m0\u001b[0m\u001b[0;34m]\u001b[0m\u001b[0;34m,\u001b[0m\u001b[0;36m4\u001b[0m\u001b[0;34m,\u001b[0m\u001b[0mDiskTotalMW\u001b[0m\u001b[0;34m)\u001b[0m\u001b[0;34m,\u001b[0m \u001b[0mcolor\u001b[0m\u001b[0;34m=\u001b[0m\u001b[0;34m'red'\u001b[0m\u001b[0;34m,\u001b[0m \u001b[0mls\u001b[0m\u001b[0;34m=\u001b[0m\u001b[0;34m'-.'\u001b[0m\u001b[0;34m,\u001b[0m\u001b[0mlw\u001b[0m\u001b[0;34m=\u001b[0m\u001b[0;36m3\u001b[0m\u001b[0;34m,\u001b[0m\u001b[0mlabel\u001b[0m\u001b[0;34m=\u001b[0m\u001b[0;34m'Sersic n=4'\u001b[0m\u001b[0;34m)\u001b[0m\u001b[0;34m\u001b[0m\u001b[0;34m\u001b[0m\u001b[0m\n\u001b[0m\u001b[1;32m     10\u001b[0m \u001b[0mplt\u001b[0m\u001b[0;34m.\u001b[0m\u001b[0msemilogy\u001b[0m\u001b[0;34m(\u001b[0m\u001b[0mRe\u001b[0m\u001b[0;34m[\u001b[0m\u001b[0;36m0\u001b[0m\u001b[0;34m]\u001b[0m\u001b[0;34m,\u001b[0m \u001b[0mBulgeSersic\u001b[0m\u001b[0;34m(\u001b[0m\u001b[0mr\u001b[0m\u001b[0;34m,\u001b[0m\u001b[0mRe\u001b[0m\u001b[0;34m[\u001b[0m\u001b[0;36m0\u001b[0m\u001b[0;34m]\u001b[0m\u001b[0;34m,\u001b[0m\u001b[0;36m6\u001b[0m\u001b[0;34m,\u001b[0m\u001b[0mDiskTotalMW\u001b[0m\u001b[0;34m)\u001b[0m\u001b[0;34m,\u001b[0m \u001b[0mcolor\u001b[0m\u001b[0;34m=\u001b[0m\u001b[0;34m'blue'\u001b[0m\u001b[0;34m,\u001b[0m \u001b[0mls\u001b[0m\u001b[0;34m=\u001b[0m\u001b[0;34m'-.'\u001b[0m\u001b[0;34m,\u001b[0m\u001b[0mlw\u001b[0m\u001b[0;34m=\u001b[0m\u001b[0;36m3\u001b[0m\u001b[0;34m,\u001b[0m\u001b[0mlabel\u001b[0m\u001b[0;34m=\u001b[0m\u001b[0;34m'Sersic n=6'\u001b[0m\u001b[0;34m)\u001b[0m\u001b[0;34m\u001b[0m\u001b[0;34m\u001b[0m\u001b[0m\n\u001b[1;32m     11\u001b[0m \u001b[0mplt\u001b[0m\u001b[0;34m.\u001b[0m\u001b[0msemilogy\u001b[0m\u001b[0;34m(\u001b[0m\u001b[0mRe\u001b[0m\u001b[0;34m[\u001b[0m\u001b[0;36m0\u001b[0m\u001b[0;34m]\u001b[0m\u001b[0;34m,\u001b[0m \u001b[0mBulgeSersic\u001b[0m\u001b[0;34m(\u001b[0m\u001b[0mr\u001b[0m\u001b[0;34m,\u001b[0m\u001b[0mRe\u001b[0m\u001b[0;34m[\u001b[0m\u001b[0;36m0\u001b[0m\u001b[0;34m]\u001b[0m\u001b[0;34m,\u001b[0m\u001b[0;36m5\u001b[0m\u001b[0;34m,\u001b[0m\u001b[0mDiskTotalMW\u001b[0m\u001b[0;34m)\u001b[0m\u001b[0;34m,\u001b[0m \u001b[0mcolor\u001b[0m\u001b[0;34m=\u001b[0m\u001b[0;34m'brown'\u001b[0m\u001b[0;34m,\u001b[0m \u001b[0mls\u001b[0m\u001b[0;34m=\u001b[0m\u001b[0;34m'-.'\u001b[0m\u001b[0;34m,\u001b[0m\u001b[0mlw\u001b[0m\u001b[0;34m=\u001b[0m\u001b[0;36m3\u001b[0m\u001b[0;34m,\u001b[0m\u001b[0mlabel\u001b[0m\u001b[0;34m=\u001b[0m\u001b[0;34m'Sersic n=5'\u001b[0m\u001b[0;34m)\u001b[0m\u001b[0;34m\u001b[0m\u001b[0;34m\u001b[0m\u001b[0m\n",
      "\u001b[0;32m<ipython-input-86-891505993d27>\u001b[0m in \u001b[0;36mBulgeSersic\u001b[0;34m(r, Re, n, Mtot)\u001b[0m\n\u001b[1;32m     20\u001b[0m     \u001b[0mA\u001b[0m \u001b[0;34m=\u001b[0m \u001b[0;34m(\u001b[0m\u001b[0mr\u001b[0m\u001b[0;34m/\u001b[0m\u001b[0mRe\u001b[0m\u001b[0;34m)\u001b[0m\u001b[0;34m**\u001b[0m\u001b[0;34m(\u001b[0m\u001b[0;36m1\u001b[0m\u001b[0;34m/\u001b[0m\u001b[0mn\u001b[0m\u001b[0;34m)\u001b[0m \u001b[0;34m-\u001b[0m \u001b[0;36m1\u001b[0m\u001b[0;34m\u001b[0m\u001b[0;34m\u001b[0m\u001b[0m\n\u001b[1;32m     21\u001b[0m \u001b[0;34m\u001b[0m\u001b[0m\n\u001b[0;32m---> 22\u001b[0;31m     \u001b[0;32mreturn\u001b[0m \u001b[0mIe\u001b[0m\u001b[0;34m*\u001b[0m\u001b[0mnp\u001b[0m\u001b[0;34m.\u001b[0m\u001b[0mexp\u001b[0m\u001b[0;34m(\u001b[0m\u001b[0;34m-\u001b[0m\u001b[0;36m7.67\u001b[0m\u001b[0;34m*\u001b[0m\u001b[0mA\u001b[0m\u001b[0;34m)\u001b[0m\u001b[0;34m\u001b[0m\u001b[0;34m\u001b[0m\u001b[0m\n\u001b[0m",
      "\u001b[0;31mTypeError\u001b[0m: loop of ufunc does not support argument 0 of type numpy.ndarray which has no callable exp method"
     ]
    },
    {
     "data": {
      "image/png": "[encoded data removed]",
      "text/plain": [
       "<Figure size 720x720 with 1 Axes>"
      ]
     },
     "metadata": {
      "needs_background": "light"
     },
     "output_type": "display_data"
    }
   ],
   "source": [
    "# Plotting the Disk density profile vs the Sersic Profile\n",
    "fig = plt.figure(figsize=(10,10))\n",
    "ax = plt.subplot(111)\n",
    "\n",
    "\n",
    "# plot the disk luminosity density as a proxy for surface brightness\n",
    "plt.semilogy(r,DiskIMW, color='black',linewidth=3, label='MW Disk Density')\n",
    "plt.semilogy(r,DiskIM31, color='black',linewidth=3, label='M31 Disk Density')\n",
    "plt.semilogy(Re[0], BulgeSersic(r,Re[0],4,DiskTotalMW), color='red', ls='-.',lw=3,label='Sersic n=4')\n",
    "plt.semilogy(Re[0], BulgeSersic(r,Re[0],6,DiskTotalMW), color='blue', ls='-.',lw=3,label='Sersic n=6')\n",
    "plt.semilogy(Re[0], BulgeSersic(r,Re[0],5,DiskTotalMW), color='brown', ls='-.',lw=3,label='Sersic n=5')\n",
    "plt.semilogy(Re[0], BulgeSersic(r,Re[0],5.4,DiskTotalMW), color='purple', ls='-.',lw=3,label='Sersic n=5.4')\n",
    "plt.semilogy(Re[1], BulgeSersic(r,Re[1],4,DiskTotalM31), color='green', ls='-.',lw=3,label='Sersic n=4')\n",
    "plt.semilogy(Re[1], BulgeSersic(r,Re[1],6,DiskTotalM31), color='orange', ls='-.',lw=3,label='Sersic n=6')\n",
    "plt.semilogy(R[1], BulgeSersic(r,Re[1],5,DiskTotalM31), color='cyan', ls='-.',lw=3,label='Sersic n=5')\n",
    "plt.semilogy(R[1], BulgeSersic(r,Re[1],5.4,DiskTotalM31), color='pink', ls='-.',lw=3,label='Sersic n=5.4')\n",
    "\n",
    "#adjust tick label font size\n",
    "label_size = 22\n",
    "matplotlib.rcParams['xtick.labelsize'] = label_size \n",
    "matplotlib.rcParams['ytick.labelsize'] = label_size\n",
    "\n",
    "\n",
    "# Add axis labels\n",
    "plt.xlabel('Radius (kpc)', fontsize=22)\n",
    "plt.ylabel('Log(I)  $L_\\odot/kpc^2$', fontsize=22)\n",
    "\n",
    "\n",
    "\n",
    "# add a legend with some customizations.\n",
    "legend = ax.legend(loc='upper right',fontsize='x-large')"
   ]
  },
  {
   "cell_type": "code",
   "execution_count": null,
   "metadata": {},
   "outputs": [],
   "source": [
    "# Plotting the Bulge density profile vs the Sersic Profile\n",
    "fig = plt.figure(figsize=(10,10))\n",
    "ax = plt.subplot(111)\n",
    "\n",
    "\n",
    "# plot the bulge luminosity density as a proxy for surface brightness\n",
    "plt.semilogy(r,BulgeIMW, color='black',linewidth=3, label='MW Bulge Density')\n",
    "plt.semilogy(r,BulgeIM31, color='black',linewidth=3, label='M31 Bulge Density')\n",
    "plt.semilogy(R[2], BulgeSersic(r,Re[2],4,BulgeTotalMW), color='red', ls='-.',lw=3,label='Sersic n=4')\n",
    "plt.semilogy(R[2], BulgeSersic(r,Re[2],6,BulgeTotalMW), color='blue', ls='-.',lw=3,label='Sersic n=6')\n",
    "plt.semilogy(R[2], BulgeSersic(r,Re[2],5,BulgeTotalMW), color='brown', ls='-.',lw=3,label='Sersic n=5')\n",
    "plt.semilogy(R[2], BulgeSersic(r,Re[2],5.4,BulgeTotalMW), color='purple', ls='-.',lw=3,label='Sersic n=5.4')\n",
    "plt.semilogy(R[3], BulgeSersic(r,Re[3],4,BulgeTotalM31), color='green', ls='-.',lw=3,label='Sersic n=4')\n",
    "plt.semilogy(R[3], BulgeSersic(r,Re[3],6,BulgeTotalM31), color='orange', ls='-.',lw=3,label='Sersic n=6')\n",
    "plt.semilogy(R[3], BulgeSersic(r,Re[3],5,BulgeTotalM31), color='cyan', ls='-.',lw=3,label='Sersic n=5')\n",
    "plt.semilogy(R[3], BulgeSersic(r,Re[3],5.4,BulgeTotalM31), color='pink', ls='-.',lw=3,label='Sersic n=5.4')\n",
    "\n",
    "#adjust tick label font size\n",
    "label_size = 22\n",
    "matplotlib.rcParams['xtick.labelsize'] = label_size \n",
    "matplotlib.rcParams['ytick.labelsize'] = label_size\n",
    "\n",
    "\n",
    "# Add axis labels\n",
    "plt.xlabel('Radius (kpc)', fontsize=22)\n",
    "plt.ylabel('Log(I)  $L_\\odot/kpc^2$', fontsize=22)\n",
    "\n",
    "\n",
    "\n",
    "# add a legend with some customizations.\n",
    "legend = ax.legend(loc='upper right',fontsize='x-large')"
   ]
  },
  {
   "cell_type": "code",
   "execution_count": null,
   "metadata": {},
   "outputs": [],
   "source": []
  }
 ],
 "metadata": {
  "kernelspec": {
   "display_name": "Python 3",
   "language": "python",
   "name": "python3"
  },
  "language_info": {
   "codemirror_mode": {
    "name": "ipython",
    "version": 3
   },
   "file_extension": ".py",
   "mimetype": "text/x-python",
   "name": "python",
   "nbconvert_exporter": "python",
   "pygments_lexer": "ipython3",
   "version": "3.7.4"
  }
 },
 "nbformat": 4,
 "nbformat_minor": 2
}
