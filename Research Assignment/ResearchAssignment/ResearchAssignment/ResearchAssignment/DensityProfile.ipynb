{
 "cells": [
  {
   "cell_type": "code",
   "execution_count": 109,
   "metadata": {},
   "outputs": [
    {
     "data": {
      "text/plain": [
       "'\\nCode by Michael Klein\\nASTR400B\\nThis code will answer the questions outlined by Dr. Gurtina in her ResearchAssignment PDF. Specifically,\\nwe will compute the density profile of the disk/bulge of the M31/MW remnant using a Mass-to-Light ratio of 1.\\nWe will then compare it to a sersic profile(Lab 6) and ###Question about Concentration### including before the \\nmerger and right before final coalescence.\\n'"
      ]
     },
     "execution_count": 109,
     "metadata": {},
     "output_type": "execute_result"
    }
   ],
   "source": [
    "\"\"\"\n",
    "Code by Michael Klein\n",
    "ASTR400B\n",
    "This code will answer the questions outlined by Dr. Gurtina in her ResearchAssignment PDF. Specifically,\n",
    "we will compute the density profile of the disk/bulge of the M31/MW remnant using a Mass-to-Light ratio of 1.\n",
    "We will then compare it to a sersic profile(Lab 6) and ###Question about Concentration### including before the \n",
    "merger and right before final coalescence.\n",
    "\"\"\""
   ]
  },
  {
   "cell_type": "code",
   "execution_count": 110,
   "metadata": {
    "scrolled": false
   },
   "outputs": [],
   "source": [
    "# Import relevant modules\n",
    "import numpy as np\n",
    "import matplotlib\n",
    "import matplotlib.pyplot as plt\n",
    "import astropy.units as u\n",
    "from MassDistributionRes import MassProfile # This will be used for the Sersic profile comparison as well as for \n",
    "# the density profile\n",
    "from ReadFile import read # This will read files\n",
    "from CenterOfMass import CenterOfMass # This will import the center of mass position and velocity functions\n",
    "# ADD MORE IF NEEDED\n"
   ]
  },
  {
   "cell_type": "code",
   "execution_count": 111,
   "metadata": {},
   "outputs": [],
   "source": [
    "# Lab 6 \n",
    "# Create an instance of the mass profile class for MW and M31\n",
    "MW = MassProfile('MW',0)\n",
    "M31 = MassProfile('M31',0)\n",
    "# Create an array of radii from 0.1 kpc to 30 kpc in increments of 0.1\n",
    "r = np.arange(0.1,30,0.1)"
   ]
  },
  {
   "cell_type": "code",
   "execution_count": 112,
   "metadata": {},
   "outputs": [],
   "source": [
    "# Define a new array DiskMass and BulgeMass for MW and M31 respectively that uses MassEnclosed within \n",
    "# MassDistributionRes to compute the mass profile of the disk and bulge\n",
    "DiskMassMW = MW.MassEnclosed(2,r) \n",
    "DiskMassM31 = M31.MassEnclosed(2,r) \n",
    "BulgeMassMW = MW.MassEnclosed(3,r)\n",
    "BulgeMassM31 = M31.MassEnclosed(3,r)"
   ]
  },
  {
   "cell_type": "code",
   "execution_count": 113,
   "metadata": {},
   "outputs": [],
   "source": [
    "# Compute the density profile using I = L/(4*pi*d**2) if we are assuming M/L~1, where I is apparent brightness\n",
    "DiskIMW = DiskMassMW/4/np.pi/r**2\n",
    "DiskIM31 = DiskMassM31/4/np.pi/r**2\n",
    "BulgeIMW = BulgeMassMW/4/np.pi/r**2\n",
    "BulgeIM31 = BulgeMassM31/4/np.pi/r**2"
   ]
  },
  {
   "cell_type": "code",
   "execution_count": 114,
   "metadata": {},
   "outputs": [],
   "source": [
    "# Computing the half-light radius/half-mass radius, since we are assuming M/L~1\n",
    "DiskTotalMW = np.max(DiskMassMW)\n",
    "DiskTotalM31 = np.max(DiskMassM31)\n",
    "BulgeTotalMW = np.max(BulgeMassMW)\n",
    "BulgeTotalM31 = np.max(BulgeMassM31)"
   ]
  },
  {
   "cell_type": "code",
   "execution_count": 115,
   "metadata": {},
   "outputs": [],
   "source": [
    "DiskMWLow = DiskTotalMW/2 # Low half-mass\n",
    "DiskM31Low = DiskTotalM31/2\n",
    "BulgeMWLow = BulgeTotalMW/2\n",
    "BulgeM31Low = BulgeTotalM31/2\n",
    "DiskMWHigh = DiskTotalMW/2 + DiskTotalMW/2*0.01 # High half-mass\n",
    "DiskM31High = DiskTotalM31/2 + DiskTotalM31/2*0.01\n",
    "BulgeMWHigh = BulgeTotalMW/2 + BulgeTotalMW/2*0.01\n",
    "BulgeM31High = BulgeTotalM31/2 + BulgeTotalM31/2*0.01"
   ]
  },
  {
   "cell_type": "code",
   "execution_count": 116,
   "metadata": {},
   "outputs": [],
   "source": [
    "# Indices that will chose where DiskMass and BulgeMass are less than the high value or greater than the low value\n",
    "index1 = np.where( (DiskMassMW > DiskMWLow) & (DiskMassMW < DiskMWHigh) ) \n",
    "index2 = np.where( (DiskMassM31 > DiskM31Low) & (DiskMassM31 < DiskM31High) )\n",
    "index3 = np.where( (BulgeMassMW > BulgeMWLow) & (BulgeMassMW < BulgeMWHigh) )\n",
    "index4 = np.where( (BulgeMassM31 > BulgeM31Low) & (BulgeMassM31 < BulgeM31High) )"
   ]
  },
  {
   "cell_type": "code",
   "execution_count": 118,
   "metadata": {},
   "outputs": [
    {
     "ename": "IndexError",
     "evalue": "too many indices for array",
     "output_type": "error",
     "traceback": [
      "\u001b[0;31m---------------------------------------------------------------------------\u001b[0m",
      "\u001b[0;31mIndexError\u001b[0m                                Traceback (most recent call last)",
      "\u001b[0;32m<ipython-input-118-10847b9e5c19>\u001b[0m in \u001b[0;36m<module>\u001b[0;34m\u001b[0m\n\u001b[1;32m      1\u001b[0m \u001b[0;31m# The half-mass radius Re\u001b[0m\u001b[0;34m\u001b[0m\u001b[0;34m\u001b[0m\u001b[0;34m\u001b[0m\u001b[0m\n\u001b[0;32m----> 2\u001b[0;31m \u001b[0mRe\u001b[0m \u001b[0;34m=\u001b[0m \u001b[0mr\u001b[0m\u001b[0;34m[\u001b[0m\u001b[0mindex1\u001b[0m\u001b[0;34m,\u001b[0m \u001b[0mindex2\u001b[0m\u001b[0;34m,\u001b[0m \u001b[0mindex3\u001b[0m\u001b[0;34m,\u001b[0m \u001b[0mindex4\u001b[0m\u001b[0;34m]\u001b[0m\u001b[0;34m\u001b[0m\u001b[0;34m\u001b[0m\u001b[0m\n\u001b[0m\u001b[1;32m      3\u001b[0m \u001b[0mprint\u001b[0m\u001b[0;34m(\u001b[0m\u001b[0mRe\u001b[0m\u001b[0;34m[\u001b[0m\u001b[0;36m1\u001b[0m\u001b[0;34m]\u001b[0m\u001b[0;34m)\u001b[0m\u001b[0;34m\u001b[0m\u001b[0;34m\u001b[0m\u001b[0m\n\u001b[1;32m      4\u001b[0m \u001b[0;31m### Could I use this to determine the actual M/L ratio? ###\u001b[0m\u001b[0;34m\u001b[0m\u001b[0;34m\u001b[0m\u001b[0;34m\u001b[0m\u001b[0m\n",
      "\u001b[0;31mIndexError\u001b[0m: too many indices for array"
     ]
    }
   ],
   "source": [
    "# The half-mass radius Re\n",
    "Re = r[index1, index2, index3, index4]\n",
    "### Could I use this to determine the actual M/L ratio? ###"
   ]
  },
  {
   "cell_type": "code",
   "execution_count": null,
   "metadata": {},
   "outputs": [],
   "source": [
    "# The Sersic profile from Lab 6\n",
    "\"\"\"A function that returns the Sersic Profile in terms of the effective radus (the half-light radius) \n",
    "for an elliptical system \"\"\"\n",
    "def BulgeSersic(r, Re, n, Mtot):\n",
    "    \"\"\" Inputs:\n",
    " Re : effective radius or half-light radius (kpc)\n",
    " n : the Sersic index\n",
    " R : array of radii (kpc)\n",
    " Mtot : the total stellar mass (Msun)\n",
    " Returns:\n",
    " Surface brightness profile in (Lsun/kpc**2)\n",
    " \n",
    " Assuming the M/L ~ 1\"\"\"\n",
    "    L = Mtot # Total luminosity is equal to the total stellar mass\n",
    "    \n",
    "    # Ie = L / (7.2 * pi * Re**2)\n",
    "    Ie = L / (7.2 * np.pi * Re**2)\n",
    "    \n",
    "    # The exponent\n",
    "    A = (r/Re)**(1/n) - 1\n",
    "    \n",
    "    return Ie*np.exp(-7.67*A)"
   ]
  },
  {
   "cell_type": "code",
   "execution_count": null,
   "metadata": {},
   "outputs": [],
   "source": [
    "BulgeSersic(r,Re[0],4,DiskTotalMW)"
   ]
  },
  {
   "cell_type": "code",
   "execution_count": null,
   "metadata": {},
   "outputs": [],
   "source": [
    "# Plotting the Disk density profile vs the Sersic Profile\n",
    "fig = plt.figure(figsize=(10,10))\n",
    "ax = plt.subplot(111)\n",
    "\n",
    "\n",
    "# plot the disk luminosity density as a proxy for surface brightness\n",
    "plt.semilogy(r,DiskIMW, color='black',linewidth=3, label='MW Disk Density')\n",
    "plt.semilogy(r,DiskIM31, color='black',linewidth=3, label='M31 Disk Density')\n",
    "plt.semilogy(Re[0], BulgeSersic(r,Re[0],4,DiskTotalMW), color='red', ls='-.',lw=3,label='Sersic n=4')\n",
    "plt.semilogy(Re[0], BulgeSersic(r,Re[0],6,DiskTotalMW), color='blue', ls='-.',lw=3,label='Sersic n=6')\n",
    "plt.semilogy(Re[0], BulgeSersic(r,Re[0],5,DiskTotalMW), color='brown', ls='-.',lw=3,label='Sersic n=5')\n",
    "plt.semilogy(Re[0], BulgeSersic(r,Re[0],5.4,DiskTotalMW), color='purple', ls='-.',lw=3,label='Sersic n=5.4')\n",
    "plt.semilogy(Re[1], BulgeSersic(r,Re[1],4,DiskTotalM31), color='green', ls='-.',lw=3,label='Sersic n=4')\n",
    "plt.semilogy(Re[1], BulgeSersic(r,Re[1],6,DiskTotalM31), color='orange', ls='-.',lw=3,label='Sersic n=6')\n",
    "plt.semilogy(R[1], BulgeSersic(r,Re[1],5,DiskTotalM31), color='cyan', ls='-.',lw=3,label='Sersic n=5')\n",
    "plt.semilogy(R[1], BulgeSersic(r,Re[1],5.4,DiskTotalM31), color='pink', ls='-.',lw=3,label='Sersic n=5.4')\n",
    "\n",
    "#adjust tick label font size\n",
    "label_size = 22\n",
    "matplotlib.rcParams['xtick.labelsize'] = label_size \n",
    "matplotlib.rcParams['ytick.labelsize'] = label_size\n",
    "\n",
    "\n",
    "# Add axis labels\n",
    "plt.xlabel('Radius (kpc)', fontsize=22)\n",
    "plt.ylabel('Log(I)  $L_\\odot/kpc^2$', fontsize=22)\n",
    "\n",
    "\n",
    "\n",
    "# add a legend with some customizations.\n",
    "legend = ax.legend(loc='upper right',fontsize='x-large')"
   ]
  },
  {
   "cell_type": "code",
   "execution_count": null,
   "metadata": {},
   "outputs": [],
   "source": [
    "# Plotting the Bulge density profile vs the Sersic Profile\n",
    "fig = plt.figure(figsize=(10,10))\n",
    "ax = plt.subplot(111)\n",
    "\n",
    "\n",
    "# plot the bulge luminosity density as a proxy for surface brightness\n",
    "plt.semilogy(r,BulgeIMW, color='black',linewidth=3, label='MW Bulge Density')\n",
    "plt.semilogy(r,BulgeIM31, color='black',linewidth=3, label='M31 Bulge Density')\n",
    "plt.semilogy(R[2], BulgeSersic(r,Re[2],4,BulgeTotalMW), color='red', ls='-.',lw=3,label='Sersic n=4')\n",
    "plt.semilogy(R[2], BulgeSersic(r,Re[2],6,BulgeTotalMW), color='blue', ls='-.',lw=3,label='Sersic n=6')\n",
    "plt.semilogy(R[2], BulgeSersic(r,Re[2],5,BulgeTotalMW), color='brown', ls='-.',lw=3,label='Sersic n=5')\n",
    "plt.semilogy(R[2], BulgeSersic(r,Re[2],5.4,BulgeTotalMW), color='purple', ls='-.',lw=3,label='Sersic n=5.4')\n",
    "plt.semilogy(R[3], BulgeSersic(r,Re[3],4,BulgeTotalM31), color='green', ls='-.',lw=3,label='Sersic n=4')\n",
    "plt.semilogy(R[3], BulgeSersic(r,Re[3],6,BulgeTotalM31), color='orange', ls='-.',lw=3,label='Sersic n=6')\n",
    "plt.semilogy(R[3], BulgeSersic(r,Re[3],5,BulgeTotalM31), color='cyan', ls='-.',lw=3,label='Sersic n=5')\n",
    "plt.semilogy(R[3], BulgeSersic(r,Re[3],5.4,BulgeTotalM31), color='pink', ls='-.',lw=3,label='Sersic n=5.4')\n",
    "\n",
    "#adjust tick label font size\n",
    "label_size = 22\n",
    "matplotlib.rcParams['xtick.labelsize'] = label_size \n",
    "matplotlib.rcParams['ytick.labelsize'] = label_size\n",
    "\n",
    "\n",
    "# Add axis labels\n",
    "plt.xlabel('Radius (kpc)', fontsize=22)\n",
    "plt.ylabel('Log(I)  $L_\\odot/kpc^2$', fontsize=22)\n",
    "\n",
    "\n",
    "\n",
    "# add a legend with some customizations.\n",
    "legend = ax.legend(loc='upper right',fontsize='x-large')"
   ]
  },
  {
   "cell_type": "code",
   "execution_count": null,
   "metadata": {},
   "outputs": [],
   "source": []
  }
 ],
 "metadata": {
  "kernelspec": {
   "display_name": "Python 3",
   "language": "python",
   "name": "python3"
  },
  "language_info": {
   "codemirror_mode": {
    "name": "ipython",
    "version": 3
   },
   "file_extension": ".py",
   "mimetype": "text/x-python",
   "name": "python",
   "nbconvert_exporter": "python",
   "pygments_lexer": "ipython3",
   "version": "3.7.4"
  }
 },
 "nbformat": 4,
 "nbformat_minor": 2
}
