{
 "cells": [
  {
   "cell_type": "code",
   "execution_count": 19,
   "metadata": {},
   "outputs": [],
   "source": [
    "import numpy as np\n",
    "import astropy.units as u\n",
    "\n",
    "def read(MW_000):\n",
    "    file = open(MW_000, 'r')\n",
    "    line1 = file.readline\n",
    "    label, value = line1.split()\n",
    "    time = float(value)*u.Myr\n",
    "    line2 = file.readline\n",
    "    label, value = line2.split()\n",
    "    total = float(value)\n",
    "    file.close()\n",
    "    data = np.genfromtxt(MW_000.txt, dtype=None, names=True, skip_header=3)\n",
    "    print(data['type'][1])\n"
   ]
  },
  {
   "cell_type": "code",
   "execution_count": null,
   "metadata": {},
   "outputs": [],
   "source": []
  }
 ],
 "metadata": {
  "kernelspec": {
   "display_name": "Python 3",
   "language": "python",
   "name": "python3"
  },
  "language_info": {
   "codemirror_mode": {
    "name": "ipython",
    "version": 3
   },
   "file_extension": ".py",
   "mimetype": "text/x-python",
   "name": "python",
   "nbconvert_exporter": "python",
   "pygments_lexer": "ipython3",
   "version": "3.7.4"
  }
 },
 "nbformat": 4,
 "nbformat_minor": 2
}
