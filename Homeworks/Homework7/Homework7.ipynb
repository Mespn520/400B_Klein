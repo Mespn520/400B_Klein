{
 "cells": [
  {
   "cell_type": "markdown",
   "metadata": {
    "ExecuteTime": {
     "end_time": "2020-01-26T08:48:31.926693Z",
     "start_time": "2020-01-26T08:48:31.923116Z"
    }
   },
   "source": [
    "# Homework 7 \n",
    "\n",
    "Michael Klein\n"
   ]
  },
  {
   "cell_type": "code",
   "execution_count": 2,
   "metadata": {
    "ExecuteTime": {
     "end_time": "2020-03-16T03:13:30.748911Z",
     "start_time": "2020-03-16T03:13:30.745053Z"
    }
   },
   "outputs": [],
   "source": [
    "# import necessary modules\n",
    "# numpy provides powerful multi-dimensional arrays to hold and manipulate data\n",
    "import numpy as np\n",
    "# matplotlib provides powerful functions for plotting figures\n",
    "import matplotlib.pyplot as plt\n",
    "# astropy provides unit system and constants for astronomical calculations\n",
    "import astropy.units as u\n",
    "import astropy.constants as const\n",
    "# import Latex module so we can display the results with symbols\n",
    "from IPython.display import Latex\n",
    "%matplotlib inline\n",
    "\n",
    "# **** import CenterOfMass to determine the COM pos/vel of M33\n",
    "from CenterofMass2 import CenterOfMass\n",
    "\n",
    "# **** import the GalaxyMass to determine the mass of M31 for each component\n",
    "from GalaxyMass import ComponentMass"
   ]
  },
  {
   "cell_type": "markdown",
   "metadata": {},
   "source": [
    "# M33AnalyticOrbit"
   ]
  },
  {
   "cell_type": "code",
   "execution_count": 11,
   "metadata": {
    "ExecuteTime": {
     "end_time": "2020-03-16T03:08:14.820296Z",
     "start_time": "2020-03-16T03:08:14.800707Z"
    }
   },
   "outputs": [],
   "source": [
    "class M33AnalyticOrbit:\n",
    "    \n",
    "    \"\"\" Calculate the analytical orbit of M33 around M31 \"\"\"\n",
    "    def __init__(self, filename, ptype=2):\n",
    "        # Initializing the instance of this class with the following properties:\n",
    "        # ptype = 2 refers to disk particles\n",
    "        # Storing the output file name\n",
    "        self.filename = filename\n",
    "        # The gravitational constant\n",
    "        self.G = const.G.to(u.kpc**3/u.Msun/u.Gyr**2).value\n",
    "        # An instance of the CenterOfMass class for M33\n",
    "        COM_M33 = CenterOfMass(\"M33_000.txt\",2)\n",
    "        # COM position for M33\n",
    "        # 0.1 refers to delta being equal to 0.1 and 4 refers to VolDec being equal to 4\n",
    "        COMP_M33 = (COM_M33.COM_P(0.1,4)).value\n",
    "        # COM velocity for M33\n",
    "        COMV_M33 = (COM_M33.COM_V(COMP_M33[0],COMP_M33[1],COMP_M33[2])).value\n",
    "        # An instance of the CenterOfMass class for M31\n",
    "        COM_M31 = CenterOfMass(\"M31_000.txt\",2)\n",
    "        # COM position for M31\n",
    "        # delta = 0.1 and VolDec = 2\n",
    "        COMP_M31 = (COM_M31.COM_P(0.1,2)).value\n",
    "        # COM velocity for M31\n",
    "        COMV_M31 = (COM_M31.COM_V(COMP_M31[0],COMP_M31[1],COMP_M31[2]))\n",
    "        # Storing the difference between the position and velocity vectors\n",
    "        self.r0 = COMP_M33.value - COMP_M31.value\n",
    "        self.v0 = COMV_M33.value - COMV_M31.value\n",
    "        \n",
    "        # Storing the scale lengths and masser for each component of M31\n",
    "        # The disk radius\n",
    "        self.rdisk = 5\n",
    "        # The disk mass in Msun\n",
    "        self.Mdisk = ComponentMass(\"M31_000.txt\",2)*1e12\n",
    "        # The bulge radius\n",
    "        self.rbulge = 1\n",
    "        # The bulge mass\n",
    "        self.Mbulge = ComponentMass(\"M31_000.txt\",3)*1e12\n",
    "        # The halo radius\n",
    "        self.rhalo = 63\n",
    "        # The halo mass\n",
    "        self.Mhalo = ComponentMass(\"M31_000.txt\",1)*1e12\n",
    "    \n",
    "    # Defining a function that will take into account the halo and bulge acceleration using Hernquist Profile\n",
    "    def HernquistAccel(self, M, ra, r):\n",
    "        \"\"\"Inputs:\n",
    "        M = mass of either bulge or halo\n",
    "        ra = scale length\n",
    "        r = relative position vector\n",
    "        Returns:\n",
    "        Hernquist Acceleration\"\"\"\n",
    "        # Magnitude of the position vector\n",
    "        rmag = (r[0]**2 + r[1]**2 + r[2]**2)**0.5\n",
    "        # Acceleration\n",
    "        Hern = self.G*M/(rmag * (ra + rmag)**2)*r\n",
    "        \n",
    "        return Hern\n",
    "    \n",
    "    \n",
    "    # Define function to take into account disk acceleration using Miyamoto Nagai 1975 profile\n",
    "    def MiyamotoNagaiAccel(self,M,r_d,r):\n",
    "        \"\"\"Inputs:\n",
    "        M = mass of the disk\n",
    "        r_d = scale length of disk\n",
    "        r = relative position vector\n",
    "        Returns:\n",
    "        Miyamoto Nagai disk acceleration\"\"\"\n",
    "        \n",
    "        # Following the formula in the HW Instructions:\n",
    "        z_d = self.rdisk/5.0\n",
    "        R = (r[0]** r[1]**2)**0.5\n",
    "        B = r_d + (r[2]**2 + z_d**2)**0.5\n",
    "        # ZSTUFF is the terms associated with the z-direction\n",
    "        ZSTUFF = 1/((r[2]**2 + z_d**2)**0.5)\n",
    "        # This will allow for a different value for the z-component of the acceleration\n",
    "        Arr = -self.G*M/(R**2 + B**2)**1.5*r*np.array([1,1,ZSTUFF])\n",
    "        \n",
    "       \n",
    "        return Arr\n",
    "     \n",
    "    # Define a function that sums all acceleration vectors from each galaxy component\n",
    "    def M31Accel(self,r):\n",
    "        \"\"\"Inputs:\n",
    "        r = relative position vector\n",
    "        Returns:\n",
    "        Sum of each component of acceleration\"\"\"\n",
    "        # Summing all the components together\n",
    "        SUM = self.HernquistAccel(self.Mhalo, self.rhalo, r) + self.HernquistAccel(self.Mbulge, self.rbulge,r) + self.MiyamotoNagaiAccel(self.Mdisk, self.rdisk, r)\n",
    "\n",
    "        return SUM\n",
    "    \n",
    "    \n",
    "    # Define a function to integrate the acceleration vector over some amount of time\n",
    "    def LeapFrog(self, dt, r, v):\n",
    "        \"\"\"Inputs:\n",
    "        dt = small time interval\n",
    "        r = position vector\n",
    "        v = velocity vector\n",
    "        Returns:\n",
    "        New position and velocity vectors\"\"\"\n",
    "        # Predicting the position at the next half timestep\n",
    "        rhalf = r + v * dt/2\n",
    "        # Predicting the final velocity at the next timestep using the acceleration field at the rhalf position\n",
    "        vnew = v + self.M31Accel(rhalf)*dt\n",
    "        # Approximation of the final position using the average expected speed over the time interval\n",
    "        rnew = rhalf+0.5*vnew*dt\n",
    "        \n",
    "        return rnew, vnew \n",
    "    \n",
    "    \n",
    "    # Define a function to solve equations of motion and compute the future orbit of M33 for 10 Gyr in the future\n",
    "    def OrbitIntegration(self, t0, dt, tmax):\n",
    "        \"\"\"Inputs:\n",
    "        t0 = starting time\n",
    "        dt = small time interval\n",
    "        tmax = maximum time\n",
    "        Returns:\n",
    "        Array of positions and velocities saved to a file\"\"\"\n",
    "        # Initialize the time to the input starting time\n",
    "        t = t0\n",
    "        # Initialize an empty array \n",
    "        orbit = np.zeros((int(tmax/dt)+2,7))\n",
    "        \n",
    "        # Initialize the first row of the orbit\n",
    "        orbit[0] = t0, *tuple(self.r0), *tuple(self.v0)\n",
    "        # Initialize a counter for the orbit starting at 1 or the next increment since we already calculated the 0th increment\n",
    "        i = 1 \n",
    "        # Start the integration (advancing in time steps and computing LeapFrog at each step)\n",
    "        while (t < tmax): \n",
    "            \n",
    "            # Advance the time by one timestep, dt\n",
    "            t += dt\n",
    "            # Store the new time in the first column of the ith row\n",
    "            orbit[i,0] = t\n",
    "            # Advance the position and velocity using the LeapFrog scheme\n",
    "            rnew, vnew = self.LeapFrog(dt, orbit[i-1,1:4],orbit[i-1,4:7])\n",
    "            # Store the new position vector into the columns with indices 1,2,3 of the ith row of orbit\n",
    "            orbit[i,1:4] = rnew\n",
    "            # Store the new velocity vector into the columns with indices 1,2,3 of the ith row of orbit\n",
    "            orbit[i,4:7]=vnew\n",
    "            \n",
    "            # Update counter i, where i is keeping track of the number of rows\n",
    "            i+=1\n",
    "        \n",
    "        \n",
    "        # Writing the data to a file\n",
    "        np.savetxt(self.filename, orbit, fmt = \"%11.3f\"*7, comments='#', \n",
    "                header=\"{:>10s}{:>11s}{:>11s}{:>11s}{:>11s}{:>11s}{:>11s}\"\\\n",
    "                .format('t', 'x', 'y', 'z', 'vx', 'vy', 'vz'))\n",
    "        \n",
    "        # there is no return function"
   ]
  },
  {
   "cell_type": "code",
   "execution_count": 12,
   "metadata": {},
   "outputs": [
    {
     "ename": "AttributeError",
     "evalue": "'numpy.ndarray' object has no attribute 'value'",
     "output_type": "error",
     "traceback": [
      "\u001b[0;31m---------------------------------------------------------------------------\u001b[0m",
      "\u001b[0;31mAttributeError\u001b[0m                            Traceback (most recent call last)",
      "\u001b[0;32m<ipython-input-12-0bf6c9d43df2>\u001b[0m in \u001b[0;36m<module>\u001b[0;34m\u001b[0m\n\u001b[1;32m      1\u001b[0m \u001b[0;34m\"\"\"Plotting the above code\"\"\"\u001b[0m\u001b[0;34m\u001b[0m\u001b[0;34m\u001b[0m\u001b[0m\n\u001b[1;32m      2\u001b[0m \u001b[0;31m# Create output file\u001b[0m\u001b[0;34m\u001b[0m\u001b[0;34m\u001b[0m\u001b[0;34m\u001b[0m\u001b[0m\n\u001b[0;32m----> 3\u001b[0;31m \u001b[0mAnaOrb\u001b[0m \u001b[0;34m=\u001b[0m \u001b[0mM33AnalyticOrbit\u001b[0m\u001b[0;34m(\u001b[0m\u001b[0;34m\"GalOrbit.txt\"\u001b[0m\u001b[0;34m)\u001b[0m\u001b[0;34m\u001b[0m\u001b[0;34m\u001b[0m\u001b[0m\n\u001b[0m",
      "\u001b[0;32m<ipython-input-11-938c7fc99e18>\u001b[0m in \u001b[0;36m__init__\u001b[0;34m(self, filename, ptype)\u001b[0m\n\u001b[1;32m     24\u001b[0m         \u001b[0mCOMV_M31\u001b[0m \u001b[0;34m=\u001b[0m \u001b[0;34m(\u001b[0m\u001b[0mCOM_M31\u001b[0m\u001b[0;34m.\u001b[0m\u001b[0mCOM_V\u001b[0m\u001b[0;34m(\u001b[0m\u001b[0mCOMP_M31\u001b[0m\u001b[0;34m[\u001b[0m\u001b[0;36m0\u001b[0m\u001b[0;34m]\u001b[0m\u001b[0;34m,\u001b[0m\u001b[0mCOMP_M31\u001b[0m\u001b[0;34m[\u001b[0m\u001b[0;36m1\u001b[0m\u001b[0;34m]\u001b[0m\u001b[0;34m,\u001b[0m\u001b[0mCOMP_M31\u001b[0m\u001b[0;34m[\u001b[0m\u001b[0;36m2\u001b[0m\u001b[0;34m]\u001b[0m\u001b[0;34m)\u001b[0m\u001b[0;34m)\u001b[0m\u001b[0;34m\u001b[0m\u001b[0;34m\u001b[0m\u001b[0m\n\u001b[1;32m     25\u001b[0m         \u001b[0;31m# Storing the difference between the position and velocity vectors\u001b[0m\u001b[0;34m\u001b[0m\u001b[0;34m\u001b[0m\u001b[0;34m\u001b[0m\u001b[0m\n\u001b[0;32m---> 26\u001b[0;31m         \u001b[0mself\u001b[0m\u001b[0;34m.\u001b[0m\u001b[0mr0\u001b[0m \u001b[0;34m=\u001b[0m \u001b[0mCOMP_M33\u001b[0m\u001b[0;34m.\u001b[0m\u001b[0mvalue\u001b[0m \u001b[0;34m-\u001b[0m \u001b[0mCOMP_M31\u001b[0m\u001b[0;34m.\u001b[0m\u001b[0mvalue\u001b[0m\u001b[0;34m\u001b[0m\u001b[0;34m\u001b[0m\u001b[0m\n\u001b[0m\u001b[1;32m     27\u001b[0m         \u001b[0mself\u001b[0m\u001b[0;34m.\u001b[0m\u001b[0mv0\u001b[0m \u001b[0;34m=\u001b[0m \u001b[0mCOMV_M33\u001b[0m\u001b[0;34m.\u001b[0m\u001b[0mvalue\u001b[0m \u001b[0;34m-\u001b[0m \u001b[0mCOMV_M31\u001b[0m\u001b[0;34m.\u001b[0m\u001b[0mvalue\u001b[0m\u001b[0;34m\u001b[0m\u001b[0;34m\u001b[0m\u001b[0m\n\u001b[1;32m     28\u001b[0m \u001b[0;34m\u001b[0m\u001b[0m\n",
      "\u001b[0;31mAttributeError\u001b[0m: 'numpy.ndarray' object has no attribute 'value'"
     ]
    }
   ],
   "source": [
    "\"\"\"Plotting the above code\"\"\"\n",
    "# Create output file\n",
    "AnaOrb = M33AnalyticOrbit(\"GalOrbit.txt\")"
   ]
  },
  {
   "cell_type": "code",
   "execution_count": 61,
   "metadata": {},
   "outputs": [
    {
     "name": "stderr",
     "output_type": "stream",
     "text": [
      "/home/mespn520/anaconda3/lib/python3.7/site-packages/ipykernel_launcher.py:71: RuntimeWarning: invalid value encountered in double_scalars\n"
     ]
    },
    {
     "ename": "UnitConversionError",
     "evalue": "Can only apply 'add' function to dimensionless quantities when other argument is not a quantity (unless the latter is all zero/infinity/nan)",
     "output_type": "error",
     "traceback": [
      "\u001b[0;31m---------------------------------------------------------------------------\u001b[0m",
      "\u001b[0;31mUnitConversionError\u001b[0m                       Traceback (most recent call last)",
      "\u001b[0;32m<ipython-input-61-c61dc9efb9a3>\u001b[0m in \u001b[0;36m<module>\u001b[0;34m\u001b[0m\n\u001b[1;32m      1\u001b[0m \"\"\"Starting at 0 Gyr and ending at 10 Gyr with time increments of 0.5\n\u001b[1;32m      2\u001b[0m Gyr and then 0.01 Gyr\"\"\"\n\u001b[0;32m----> 3\u001b[0;31m \u001b[0mAnaOrb\u001b[0m\u001b[0;34m.\u001b[0m\u001b[0mOrbitIntegration\u001b[0m\u001b[0;34m(\u001b[0m\u001b[0;36m0\u001b[0m\u001b[0;34m,\u001b[0m\u001b[0;36m0.01\u001b[0m\u001b[0;34m,\u001b[0m\u001b[0;36m10\u001b[0m\u001b[0;34m)\u001b[0m\u001b[0;34m\u001b[0m\u001b[0;34m\u001b[0m\u001b[0m\n\u001b[0m",
      "\u001b[0;32m<ipython-input-49-7f31e6e34f73>\u001b[0m in \u001b[0;36mOrbitIntegration\u001b[0;34m(self, t0, dt, tmax)\u001b[0m\n\u001b[1;32m    134\u001b[0m             \u001b[0morbit\u001b[0m\u001b[0;34m[\u001b[0m\u001b[0mi\u001b[0m\u001b[0;34m,\u001b[0m\u001b[0;36m0\u001b[0m\u001b[0;34m]\u001b[0m \u001b[0;34m=\u001b[0m \u001b[0mt\u001b[0m\u001b[0;34m\u001b[0m\u001b[0;34m\u001b[0m\u001b[0m\n\u001b[1;32m    135\u001b[0m             \u001b[0;31m# Advance the position and velocity using the LeapFrog scheme\u001b[0m\u001b[0;34m\u001b[0m\u001b[0;34m\u001b[0m\u001b[0;34m\u001b[0m\u001b[0m\n\u001b[0;32m--> 136\u001b[0;31m             \u001b[0mrnew\u001b[0m\u001b[0;34m,\u001b[0m \u001b[0mvnew\u001b[0m \u001b[0;34m=\u001b[0m \u001b[0mself\u001b[0m\u001b[0;34m.\u001b[0m\u001b[0mLeapFrog\u001b[0m\u001b[0;34m(\u001b[0m\u001b[0mdt\u001b[0m\u001b[0;34m,\u001b[0m \u001b[0morbit\u001b[0m\u001b[0;34m[\u001b[0m\u001b[0mi\u001b[0m\u001b[0;34m-\u001b[0m\u001b[0;36m1\u001b[0m\u001b[0;34m,\u001b[0m\u001b[0;36m1\u001b[0m\u001b[0;34m:\u001b[0m\u001b[0;36m4\u001b[0m\u001b[0;34m]\u001b[0m\u001b[0;34m,\u001b[0m\u001b[0morbit\u001b[0m\u001b[0;34m[\u001b[0m\u001b[0mi\u001b[0m\u001b[0;34m-\u001b[0m\u001b[0;36m1\u001b[0m\u001b[0;34m,\u001b[0m\u001b[0;36m4\u001b[0m\u001b[0;34m:\u001b[0m\u001b[0;36m7\u001b[0m\u001b[0;34m]\u001b[0m\u001b[0;34m)\u001b[0m\u001b[0;34m\u001b[0m\u001b[0;34m\u001b[0m\u001b[0m\n\u001b[0m\u001b[1;32m    137\u001b[0m             \u001b[0;31m# Store the new position vector into the columns with indices 1,2,3 of the ith row of orbit\u001b[0m\u001b[0;34m\u001b[0m\u001b[0;34m\u001b[0m\u001b[0;34m\u001b[0m\u001b[0m\n\u001b[1;32m    138\u001b[0m             \u001b[0morbit\u001b[0m\u001b[0;34m[\u001b[0m\u001b[0mi\u001b[0m\u001b[0;34m,\u001b[0m\u001b[0;36m1\u001b[0m\u001b[0;34m:\u001b[0m\u001b[0;36m4\u001b[0m\u001b[0;34m]\u001b[0m \u001b[0;34m=\u001b[0m \u001b[0mrnew\u001b[0m\u001b[0;34m\u001b[0m\u001b[0;34m\u001b[0m\u001b[0m\n",
      "\u001b[0;32m<ipython-input-49-7f31e6e34f73>\u001b[0m in \u001b[0;36mLeapFrog\u001b[0;34m(self, dt, r, v)\u001b[0m\n\u001b[1;32m    102\u001b[0m         \u001b[0mrhalf\u001b[0m \u001b[0;34m=\u001b[0m \u001b[0mr\u001b[0m \u001b[0;34m+\u001b[0m \u001b[0mv\u001b[0m \u001b[0;34m*\u001b[0m \u001b[0mdt\u001b[0m\u001b[0;34m/\u001b[0m\u001b[0;36m2\u001b[0m\u001b[0;34m\u001b[0m\u001b[0;34m\u001b[0m\u001b[0m\n\u001b[1;32m    103\u001b[0m         \u001b[0;31m# Predicting the final velocity at the next timestep using the acceleration field at the rhalf position\u001b[0m\u001b[0;34m\u001b[0m\u001b[0;34m\u001b[0m\u001b[0;34m\u001b[0m\u001b[0m\n\u001b[0;32m--> 104\u001b[0;31m         \u001b[0mvnew\u001b[0m \u001b[0;34m=\u001b[0m \u001b[0mv\u001b[0m \u001b[0;34m+\u001b[0m \u001b[0mself\u001b[0m\u001b[0;34m.\u001b[0m\u001b[0mM31Accel\u001b[0m\u001b[0;34m(\u001b[0m\u001b[0mrhalf\u001b[0m\u001b[0;34m)\u001b[0m\u001b[0;34m*\u001b[0m\u001b[0mdt\u001b[0m\u001b[0;34m\u001b[0m\u001b[0;34m\u001b[0m\u001b[0m\n\u001b[0m\u001b[1;32m    105\u001b[0m         \u001b[0;31m# Approximation of the final position using the average expected speed over the time interval\u001b[0m\u001b[0;34m\u001b[0m\u001b[0;34m\u001b[0m\u001b[0;34m\u001b[0m\u001b[0m\n\u001b[1;32m    106\u001b[0m         \u001b[0mrnew\u001b[0m \u001b[0;34m=\u001b[0m \u001b[0mrhalf\u001b[0m\u001b[0;34m+\u001b[0m\u001b[0;36m0.5\u001b[0m\u001b[0;34m*\u001b[0m\u001b[0mvnew\u001b[0m\u001b[0;34m*\u001b[0m\u001b[0mdt\u001b[0m\u001b[0;34m\u001b[0m\u001b[0;34m\u001b[0m\u001b[0m\n",
      "\u001b[0;32m~/anaconda3/lib/python3.7/site-packages/astropy/units/quantity.py\u001b[0m in \u001b[0;36m__array_ufunc__\u001b[0;34m(self, function, method, *inputs, **kwargs)\u001b[0m\n\u001b[1;32m    442\u001b[0m         \u001b[0;31m# consistent units between two inputs (e.g., in np.add) --\u001b[0m\u001b[0;34m\u001b[0m\u001b[0;34m\u001b[0m\u001b[0;34m\u001b[0m\u001b[0m\n\u001b[1;32m    443\u001b[0m         \u001b[0;31m# and the unit of the result (or tuple of units for nout > 1).\u001b[0m\u001b[0;34m\u001b[0m\u001b[0;34m\u001b[0m\u001b[0;34m\u001b[0m\u001b[0m\n\u001b[0;32m--> 444\u001b[0;31m         \u001b[0mconverters\u001b[0m\u001b[0;34m,\u001b[0m \u001b[0munit\u001b[0m \u001b[0;34m=\u001b[0m \u001b[0mconverters_and_unit\u001b[0m\u001b[0;34m(\u001b[0m\u001b[0mfunction\u001b[0m\u001b[0;34m,\u001b[0m \u001b[0mmethod\u001b[0m\u001b[0;34m,\u001b[0m \u001b[0;34m*\u001b[0m\u001b[0minputs\u001b[0m\u001b[0;34m)\u001b[0m\u001b[0;34m\u001b[0m\u001b[0;34m\u001b[0m\u001b[0m\n\u001b[0m\u001b[1;32m    445\u001b[0m \u001b[0;34m\u001b[0m\u001b[0m\n\u001b[1;32m    446\u001b[0m         \u001b[0mout\u001b[0m \u001b[0;34m=\u001b[0m \u001b[0mkwargs\u001b[0m\u001b[0;34m.\u001b[0m\u001b[0mget\u001b[0m\u001b[0;34m(\u001b[0m\u001b[0;34m'out'\u001b[0m\u001b[0;34m,\u001b[0m \u001b[0;32mNone\u001b[0m\u001b[0;34m)\u001b[0m\u001b[0;34m\u001b[0m\u001b[0;34m\u001b[0m\u001b[0m\n",
      "\u001b[0;32m~/anaconda3/lib/python3.7/site-packages/astropy/units/quantity_helper/converters.py\u001b[0m in \u001b[0;36mconverters_and_unit\u001b[0;34m(function, method, *args)\u001b[0m\n\u001b[1;32m    187\u001b[0m                             \u001b[0;34m\"argument is not a quantity (unless the \"\u001b[0m\u001b[0;34m\u001b[0m\u001b[0;34m\u001b[0m\u001b[0m\n\u001b[1;32m    188\u001b[0m                             \u001b[0;34m\"latter is all zero/infinity/nan)\"\u001b[0m\u001b[0;34m\u001b[0m\u001b[0;34m\u001b[0m\u001b[0m\n\u001b[0;32m--> 189\u001b[0;31m                             .format(function.__name__))\n\u001b[0m\u001b[1;32m    190\u001b[0m             \u001b[0;32mexcept\u001b[0m \u001b[0mTypeError\u001b[0m\u001b[0;34m:\u001b[0m\u001b[0;34m\u001b[0m\u001b[0;34m\u001b[0m\u001b[0m\n\u001b[1;32m    191\u001b[0m                 \u001b[0;31m# _can_have_arbitrary_unit failed: arg could not be compared\u001b[0m\u001b[0;34m\u001b[0m\u001b[0;34m\u001b[0m\u001b[0;34m\u001b[0m\u001b[0m\n",
      "\u001b[0;31mUnitConversionError\u001b[0m: Can only apply 'add' function to dimensionless quantities when other argument is not a quantity (unless the latter is all zero/infinity/nan)"
     ]
    }
   ],
   "source": [
    "\"\"\"Starting at 0 Gyr and ending at 10 Gyr with time increments of 0.5\n",
    "Gyr and then 0.01 Gyr\"\"\"\n",
    "AnaOrb.OrbitIntegration(0,0.01,10)"
   ]
  },
  {
   "cell_type": "code",
   "execution_count": null,
   "metadata": {},
   "outputs": [],
   "source": []
  }
 ],
 "metadata": {
  "kernelspec": {
   "display_name": "Python 3",
   "language": "python",
   "name": "python3"
  },
  "language_info": {
   "codemirror_mode": {
    "name": "ipython",
    "version": 3
   },
   "file_extension": ".py",
   "mimetype": "text/x-python",
   "name": "python",
   "nbconvert_exporter": "python",
   "pygments_lexer": "ipython3",
   "version": "3.7.4"
  },
  "varInspector": {
   "cols": {
    "lenName": 16,
    "lenType": 16,
    "lenVar": 40
   },
   "kernels_config": {
    "python": {
     "delete_cmd_postfix": "",
     "delete_cmd_prefix": "del ",
     "library": "var_list.py",
     "varRefreshCmd": "print(var_dic_list())"
    },
    "r": {
     "delete_cmd_postfix": ") ",
     "delete_cmd_prefix": "rm(",
     "library": "var_list.r",
     "varRefreshCmd": "cat(var_dic_list()) "
    }
   },
   "types_to_exclude": [
    "module",
    "function",
    "builtin_function_or_method",
    "instance",
    "_Feature"
   ],
   "window_display": false
  }
 },
 "nbformat": 4,
 "nbformat_minor": 4
}
