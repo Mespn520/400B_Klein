{
 "cells": [
  {
   "cell_type": "markdown",
   "metadata": {
    "ExecuteTime": {
     "end_time": "2020-01-26T08:48:31.926693Z",
     "start_time": "2020-01-26T08:48:31.923116Z"
    }
   },
   "source": [
    "# Lab 11 Dynamical Friction\n",
    "\n",
    "Starting from the Homework 7 Solutions, add Dynamical Friction to better match the simulation data. \n",
    "\n"
   ]
  },
  {
   "cell_type": "code",
   "execution_count": 14,
   "metadata": {
    "ExecuteTime": {
     "end_time": "2020-03-16T03:13:30.748911Z",
     "start_time": "2020-03-16T03:13:30.745053Z"
    }
   },
   "outputs": [],
   "source": [
    "# import necessary modules\n",
    "# numpy provides powerful multi-dimensional arrays to hold and manipulate data\n",
    "import numpy as np\n",
    "# matplotlib provides powerful functions for plotting figures\n",
    "import matplotlib.pyplot as plt\n",
    "# astropy provides unit system and constants for astronomical calculations\n",
    "import astropy.units as u\n",
    "import astropy.constants as const\n",
    "# import Latex module so we can display the results with symbols\n",
    "from IPython.display import Latex\n",
    "%matplotlib inline\n",
    "\n",
    "# import the CenterOfMass to determine the COM pos/vel of M33\n",
    "from CenterOfMass2 import CenterOfMass\n",
    "# import the GalaxyMass to determine the mass of M31 for each component\n",
    "from GalaxyMass import ComponentMass"
   ]
  },
  {
   "cell_type": "markdown",
   "metadata": {},
   "source": [
    "# M33AnalyticOrbit\n",
    "\n",
    "1. Add a new variable to the initializer for the class,  `self.M33halo`,  that defines M33's halo mass.\n",
    "\n",
    "2. Add a new varaible to the initialization of the class, `self.Vc`, the circular speed at large radii from M31. Let's assume this is flat at $V_c$ = 200 km/s in the M31 halo outskirts.  or 230 from Homework 5\n",
    "\n",
    "3. Add a function called `DynamicalFriction` that takes as inputs (Msat,r,v), and computes the acceleration, assuming an isothermal sphere profile for the dark matter halo of M31.\n",
    "\n",
    "$ {\\bf a} =  -0.428 \\frac{GM_{\\rm sat} \\rm{ln}(\\Lambda)}{r^2} \\frac{\\bf v}{v} $ \n",
    "\n",
    "Where the ${\\rm ln}(\\Lambda)$ is the Coulomb logairthm \n",
    "\n",
    "$\\Lambda = \\frac{bmax}{bmin} $\n",
    "\n",
    "$bmax$ = the current separation between M31 and M33 and \n",
    "\n",
    "$bmin = \\frac{GM_{sat}}{V_c^2}$\n",
    "\n",
    "4. Include this function in `M33Accel`.  Note that it will require a new input, v (velocity vector). This must be accounted for also when M33Accel is called in LeapFrog \n",
    "\n",
    "5. If the orbit doesn't match well. Add a fudge factor (`self.fudge`) that is some fraction of 1 to decrease the strength of the dynamical friction term. \n",
    "\n",
    "6. What other reasons might there be for why the orbits don't match?"
   ]
  },
  {
   "cell_type": "code",
   "execution_count": 15,
   "metadata": {
    "ExecuteTime": {
     "end_time": "2020-03-16T03:08:14.820296Z",
     "start_time": "2020-03-16T03:08:14.800707Z"
    }
   },
   "outputs": [],
   "source": [
    "class M33AnalyticOrbit:\n",
    "    \"\"\" Calculate the analytical orbit of M33 around M31 \"\"\"\n",
    "    \n",
    "    def __init__(self, filename):\n",
    "        \"\"\" Initialize the class with the current properties of M33 \n",
    "        input: filename, string denoting the name of the file in which the output orbit will be stored \"\"\"\n",
    "        \n",
    "        # get the gravitational constant (the value is 4.498502151575286e-06)\n",
    "        self.G = const.G.to(u.kpc**3/u.Msun/u.Gyr**2).value\n",
    "        \n",
    "        # store the output file name\n",
    "        self.filename = filename\n",
    "        \n",
    "        # get the current pos/vel of M33 relative to M31\n",
    "        M33_COM = CenterOfMass(\"M33_000.txt\", 2)\n",
    "        self.r0 = M33_COM.COM_P(0.1, 4)  # equivalently could have set self.x self.y self.z to each component.\n",
    "        self.v0 = M33_COM.COM_V(self.r0[0], self.r0[1],self.r0[2]).value\n",
    "        self.r0 = self.r0.value\n",
    "        \n",
    "        M31_COM = CenterOfMass(\"M31_000.txt\", 2)\n",
    "        M31_r0 = M31_COM.COM_P(0.1, 2)\n",
    "        self.r0 -= M31_r0.value #  subtract out the M31 COM Position from the previously defined values\n",
    "        self.v0 -= M31_COM.COM_V(M31_r0[0], M31_r0[1], M31_r0[2]).value   \n",
    "        # subtract out the M31 COM velocity from the previously defined values\n",
    "        \n",
    "        # get the mass of each component in M31 \n",
    "        # disk\n",
    "        self.rdisk = 5.0 # set the scale length \n",
    "        self.Mdisk = ComponentMass(\"M31_000.txt\", 2)*1e12\n",
    "        \n",
    "        # bulge\n",
    "        self.rbulge = 1.0 # set the bulge scale length\n",
    "        self.Mbulge = ComponentMass(\"M31_000.txt\", 3)*1e12\n",
    "        \n",
    "        # Halo\n",
    "        self.rhalo = 61.58 # use the Hernquist scale length (a) computed in HW5\n",
    "        self.Mhalo = ComponentMass(\"M31_000.txt\", 1)*1e12\n",
    "      \n",
    "    \n",
    "        ### ADD M33 HALO MASS HERE #### \n",
    "        self.M33halo = ComponentMass('M33_000.txt', 1)*1e12\n",
    "    \n",
    "        ### ADD M31 CIRCULAR SPEED HERE ### \n",
    "        self.Vc = 230 # km/s\n",
    "        \n",
    "        ### Fudge factor ## \n",
    "        self.fudge = 0.5\n",
    "    \n",
    "    \n",
    "    def HenquistAccel(self, M, r_a, r):\n",
    "        \"\"\" Compute the Hernquist profile acceleration \n",
    "        Inputs :  M the Hernquist mass (Msun)\n",
    "                r_a the Hernquist scale length (kpc)\n",
    "                r the position vector [ x, y, z]\n",
    "        Returns:  the Acceleration vector for a Hernquist profile [Ax, Ay, Az]\"\"\"\n",
    "        \n",
    "        # follow the formula in the HW instructions\n",
    "        r_mag = np.sqrt(np.sum(r**2))\n",
    "        return -self.G * M / (r_mag * (r_a + r_mag)**2) * r\n",
    "    \n",
    "    def MiyamotoNagaiAccel(self, M, rd, r):\n",
    "        \"\"\" Compute the Miyamoto-Nagai profile acceleration\n",
    "        Inputs:  M  the disk mass (Msun)\n",
    "                rd the disk scale length (kpc)\n",
    "                r the position vector [ x, y, z]\n",
    "        Returns: the Acceleration vector for a Miyamoto-Nagai profile [Ax, Ay, Az] \"\"\"\n",
    "        \n",
    "        # follow the formula in the HW instructions\n",
    "        R2 = np.sum(r[:2]**2)\n",
    "        zd = rd / 5.0\n",
    "        B = rd + np.sqrt(r[2]**2 + zd**2)\n",
    "        return -self.G * M / (R2 + B**2)**1.5 * r * np.array([1, 1, B/(B-rd)]) \n",
    "        # the np.array allows for a different value for the z component of the acceleration\n",
    "  \n",
    "\n",
    "    ########### ADD Dynamical Friction Term Here ##################\n",
    "    def DynamicalFriction(self, Msat, Vc, r, v):\n",
    "        \"\"\" Function to compute dynamical friction on the satellite galaxy\n",
    "        a = -0.428*G*Msat*ln(Lambda)/(rmag^2)*v/vmag\n",
    "        Inputs:\n",
    "        Msat = Mass of the satellite in Msun\n",
    "        Vc = the circular speed at large radii from M31\n",
    "        r = the position vector of M33\n",
    "        v = the velocity vector of M33\n",
    "        Returns: The acceleration (deceleration) vector owing to Dynamical Friction\n",
    "        \"\"\"\n",
    "        \n",
    "        rmag = np.sqrt( r[0]**2 + r[1]**2 + r[2]**2)\n",
    "        vmag = np.sqrt( v[0]**2 + v[1]**2 + v[2]**2)\n",
    "        \n",
    "        # coulomb logarithm : ln(lambda)\n",
    "        bmax = rmag # current separation between M31 and M33\n",
    "        bmin = self.G*Msat/Vc**2# G*Msat / Vc^2\n",
    "        Coulomb = np.log(bmax/bmin)\n",
    "        \n",
    "        return -0.428*self.G*Msat*Coulomb/rmag**2*v/vmag*self.fudge\n",
    "    \n",
    "    \n",
    "        \n",
    "    ##### ADD v to M31Accel input #### \n",
    "    def M31Accel(self, r, v):\n",
    "        \"\"\" Compute the total acceleration from M31\n",
    "        Input: r the position vector [ x, y, z]\n",
    "        v = velocity vector [vx vy vz]\n",
    "        Returns: A vector for the total acceleration (halo+ bulge+ disk) [ Ax, Ay, Az]\"\"\"\n",
    "        \n",
    "        ###### ADD DYNAMICAL FRICTION HERE\n",
    "        return self.HenquistAccel(self.Mhalo, self.rhalo, r) \\\n",
    "             + self.HenquistAccel(self.Mbulge, self.rbulge, r) \\\n",
    "             + self.MiyamotoNagaiAccel(self.Mdisk, self.rdisk, r) \\\n",
    "             + self.DynamicalFriction(self.M33Halo, self.Vc, r, v)\n",
    "    \n",
    "    \n",
    "    def LeapFrog(self, dt, r, v):\n",
    "        \"\"\" perform one step Leap Frog integration for M33\n",
    "        Input: dt time step in Gyr\n",
    "            r the current position vector [ x, y, z] \n",
    "            v the currentvelocity vector [ vx, vy, vz]\n",
    "        Returns:  Advances the position and velocity vectors by one timestep \"\"\"\n",
    "        \n",
    "        # predict the position at the next half timestep\n",
    "        rhalf = r + v * dt / 2.0\n",
    "        \n",
    "        # compute the velocity at the next timestep\n",
    "        ##### ADD v to M31Accel ### \n",
    "        vnext = v + self.M31Accel(rhalf, v) * dt\n",
    "        \n",
    "        # compute the position at the next timestep\n",
    "        rnext = r + (vnext+v)/2.0 * dt \n",
    "        \n",
    "        return rnext, vnext\n",
    "    \n",
    "    def OrbitIntegration(self, t0, dt, tmax):\n",
    "        \"\"\" Compute the orbit of M33 using the LeapFrog Scheme\n",
    "        Input:  t0 the current time in Gyr\n",
    "                dt the time step in Gyr\n",
    "                tmax the final time in Gyr\n",
    "        Returns: Generates a file with the original filename given when the class was initialized that stores\n",
    "                the output of the orbit.\"\"\"\n",
    "        \n",
    "        # initialize the time, counter, and the orbit array\n",
    "        t = t0\n",
    "        i = 1\n",
    "        orbit = np.zeros([int(tmax/dt)+2, 7])\n",
    "        \n",
    "        orbit[0] = t0, *tuple(self.r0), *tuple(self.v0)\n",
    "        \n",
    "        # start the integration\n",
    "        while (t < tmax):\n",
    "            # move forward the time by one timestep\n",
    "            t += dt\n",
    "            orbit[i, 0] = t\n",
    "            # integrate the position and velocity using the LeapFrog scheme\n",
    "            orbit[i, 1:4], orbit[i, 4:] = \\\n",
    "                self.LeapFrog(dt, orbit[i-1, 1:4], orbit[i-1, 4:])\n",
    "            \n",
    "            i += 1 # update counter\n",
    "        \n",
    "        # write the data to a file\n",
    "        np.savetxt(self.filename, orbit, fmt = \"%11.3f\"*7, comments='#', \n",
    "                   header=\"{:>10s}{:>11s}{:>11s}{:>11s}{:>11s}{:>11s}{:>11s}\"\\\n",
    "                   .format('t', 'x', 'y', 'z', 'vx', 'vy', 'vz'))\n",
    "        "
   ]
  },
  {
   "cell_type": "code",
   "execution_count": 16,
   "metadata": {
    "ExecuteTime": {
     "end_time": "2020-03-16T03:08:16.418718Z",
     "start_time": "2020-03-16T03:08:15.552091Z"
    }
   },
   "outputs": [
    {
     "ename": "FileNotFoundError",
     "evalue": "[Errno 2] No such file or directory: 'M31_000.txt'",
     "output_type": "error",
     "traceback": [
      "\u001b[0;31m---------------------------------------------------------------------------\u001b[0m",
      "\u001b[0;31mFileNotFoundError\u001b[0m                         Traceback (most recent call last)",
      "\u001b[0;32m<ipython-input-16-7d650c22d9e2>\u001b[0m in \u001b[0;36m<module>\u001b[0;34m\u001b[0m\n\u001b[0;32m----> 1\u001b[0;31m \u001b[0mM33\u001b[0m \u001b[0;34m=\u001b[0m \u001b[0mM33AnalyticOrbit\u001b[0m\u001b[0;34m(\u001b[0m\u001b[0;34m\"M33AnalyticOrbit.txt\"\u001b[0m\u001b[0;34m)\u001b[0m\u001b[0;34m\u001b[0m\u001b[0;34m\u001b[0m\u001b[0m\n\u001b[0m\u001b[1;32m      2\u001b[0m \u001b[0mM33\u001b[0m\u001b[0;34m.\u001b[0m\u001b[0mOrbitIntegration\u001b[0m\u001b[0;34m(\u001b[0m\u001b[0;36m0\u001b[0m\u001b[0;34m,\u001b[0m \u001b[0;36m0.1\u001b[0m\u001b[0;34m,\u001b[0m \u001b[0;36m10.\u001b[0m\u001b[0;34m)\u001b[0m\u001b[0;34m\u001b[0m\u001b[0;34m\u001b[0m\u001b[0m\n",
      "\u001b[0;32m<ipython-input-15-01488eb2fe5e>\u001b[0m in \u001b[0;36m__init__\u001b[0;34m(self, filename)\u001b[0m\n\u001b[1;32m     18\u001b[0m         \u001b[0mself\u001b[0m\u001b[0;34m.\u001b[0m\u001b[0mr0\u001b[0m \u001b[0;34m=\u001b[0m \u001b[0mself\u001b[0m\u001b[0;34m.\u001b[0m\u001b[0mr0\u001b[0m\u001b[0;34m.\u001b[0m\u001b[0mvalue\u001b[0m\u001b[0;34m\u001b[0m\u001b[0;34m\u001b[0m\u001b[0m\n\u001b[1;32m     19\u001b[0m \u001b[0;34m\u001b[0m\u001b[0m\n\u001b[0;32m---> 20\u001b[0;31m         \u001b[0mM31_COM\u001b[0m \u001b[0;34m=\u001b[0m \u001b[0mCenterOfMass\u001b[0m\u001b[0;34m(\u001b[0m\u001b[0;34m\"M31_000.txt\"\u001b[0m\u001b[0;34m,\u001b[0m \u001b[0;36m2\u001b[0m\u001b[0;34m)\u001b[0m\u001b[0;34m\u001b[0m\u001b[0;34m\u001b[0m\u001b[0m\n\u001b[0m\u001b[1;32m     21\u001b[0m         \u001b[0mM31_r0\u001b[0m \u001b[0;34m=\u001b[0m \u001b[0mM31_COM\u001b[0m\u001b[0;34m.\u001b[0m\u001b[0mCOM_P\u001b[0m\u001b[0;34m(\u001b[0m\u001b[0;36m0.1\u001b[0m\u001b[0;34m,\u001b[0m \u001b[0;36m2\u001b[0m\u001b[0;34m)\u001b[0m\u001b[0;34m\u001b[0m\u001b[0;34m\u001b[0m\u001b[0m\n\u001b[1;32m     22\u001b[0m         \u001b[0mself\u001b[0m\u001b[0;34m.\u001b[0m\u001b[0mr0\u001b[0m \u001b[0;34m-=\u001b[0m \u001b[0mM31_r0\u001b[0m\u001b[0;34m.\u001b[0m\u001b[0mvalue\u001b[0m \u001b[0;31m#  subtract out the M31 COM Position from the previously defined values\u001b[0m\u001b[0;34m\u001b[0m\u001b[0;34m\u001b[0m\u001b[0m\n",
      "\u001b[0;32m~/400B_Klein/Labs/Lab11/CenterOfMass2.py\u001b[0m in \u001b[0;36m__init__\u001b[0;34m(self, filename, ptype)\u001b[0m\n\u001b[1;32m     29\u001b[0m \u001b[0;34m\u001b[0m\u001b[0m\n\u001b[1;32m     30\u001b[0m         \u001b[0;31m# read in the file\u001b[0m\u001b[0;34m\u001b[0m\u001b[0;34m\u001b[0m\u001b[0;34m\u001b[0m\u001b[0m\n\u001b[0;32m---> 31\u001b[0;31m         \u001b[0mself\u001b[0m\u001b[0;34m.\u001b[0m\u001b[0mtime\u001b[0m\u001b[0;34m,\u001b[0m \u001b[0mself\u001b[0m\u001b[0;34m.\u001b[0m\u001b[0mtotal\u001b[0m\u001b[0;34m,\u001b[0m \u001b[0mself\u001b[0m\u001b[0;34m.\u001b[0m\u001b[0mdata\u001b[0m \u001b[0;34m=\u001b[0m \u001b[0mRead\u001b[0m\u001b[0;34m(\u001b[0m\u001b[0mfilename\u001b[0m\u001b[0;34m)\u001b[0m\u001b[0;34m\u001b[0m\u001b[0;34m\u001b[0m\u001b[0m\n\u001b[0m\u001b[1;32m     32\u001b[0m         \u001b[0;31m#print(self.time)\u001b[0m\u001b[0;34m\u001b[0m\u001b[0;34m\u001b[0m\u001b[0;34m\u001b[0m\u001b[0m\n\u001b[1;32m     33\u001b[0m \u001b[0;34m\u001b[0m\u001b[0m\n",
      "\u001b[0;32m~/400B_Klein/Labs/Lab11/ReadFile.py\u001b[0m in \u001b[0;36mRead\u001b[0;34m(filename)\u001b[0m\n\u001b[1;32m     11\u001b[0m \u001b[0;34m\u001b[0m\u001b[0m\n\u001b[1;32m     12\u001b[0m         \u001b[0;31m# open the file\u001b[0m\u001b[0;34m\u001b[0m\u001b[0;34m\u001b[0m\u001b[0;34m\u001b[0m\u001b[0m\n\u001b[0;32m---> 13\u001b[0;31m         \u001b[0mfile\u001b[0m \u001b[0;34m=\u001b[0m \u001b[0mopen\u001b[0m\u001b[0;34m(\u001b[0m\u001b[0mfilename\u001b[0m\u001b[0;34m,\u001b[0m\u001b[0;34m'r'\u001b[0m\u001b[0;34m)\u001b[0m\u001b[0;34m\u001b[0m\u001b[0;34m\u001b[0m\u001b[0m\n\u001b[0m\u001b[1;32m     14\u001b[0m \u001b[0;34m\u001b[0m\u001b[0m\n\u001b[1;32m     15\u001b[0m         \u001b[0;31m#read header info line by line (line will be a string)\u001b[0m\u001b[0;34m\u001b[0m\u001b[0;34m\u001b[0m\u001b[0;34m\u001b[0m\u001b[0m\n",
      "\u001b[0;31mFileNotFoundError\u001b[0m: [Errno 2] No such file or directory: 'M31_000.txt'"
     ]
    }
   ],
   "source": [
    "M33 = M33AnalyticOrbit(\"M33AnalyticOrbit.txt\")\n",
    "M33.OrbitIntegration(0, 0.1, 10.)"
   ]
  },
  {
   "cell_type": "code",
   "execution_count": 17,
   "metadata": {
    "ExecuteTime": {
     "end_time": "2020-03-16T03:08:16.977732Z",
     "start_time": "2020-03-16T03:08:16.968275Z"
    }
   },
   "outputs": [
    {
     "ename": "OSError",
     "evalue": "M33AnalyticOrbit.txt not found.",
     "output_type": "error",
     "traceback": [
      "\u001b[0;31m---------------------------------------------------------------------------\u001b[0m",
      "\u001b[0;31mOSError\u001b[0m                                   Traceback (most recent call last)",
      "\u001b[0;32m<ipython-input-17-fef6f3c26269>\u001b[0m in \u001b[0;36m<module>\u001b[0;34m\u001b[0m\n\u001b[1;32m      2\u001b[0m \u001b[0;34m\u001b[0m\u001b[0m\n\u001b[1;32m      3\u001b[0m \u001b[0;31m# Read in Orbit of M33 relative to M31\u001b[0m\u001b[0;34m\u001b[0m\u001b[0;34m\u001b[0m\u001b[0;34m\u001b[0m\u001b[0m\n\u001b[0;32m----> 4\u001b[0;31m \u001b[0mM33Orbit\u001b[0m \u001b[0;34m=\u001b[0m \u001b[0mnp\u001b[0m\u001b[0;34m.\u001b[0m\u001b[0mloadtxt\u001b[0m\u001b[0;34m(\u001b[0m\u001b[0;34m\"M33AnalyticOrbit.txt\"\u001b[0m\u001b[0;34m,\u001b[0m \u001b[0mdtype\u001b[0m\u001b[0;34m=\u001b[0m\u001b[0morbit_type\u001b[0m\u001b[0;34m)\u001b[0m\u001b[0;34m\u001b[0m\u001b[0;34m\u001b[0m\u001b[0m\n\u001b[0m\u001b[1;32m      5\u001b[0m \u001b[0;34m\u001b[0m\u001b[0m\n\u001b[1;32m      6\u001b[0m \u001b[0;31m# Read in Orbit of M33 relative to M31 Old, from Homework 7\u001b[0m\u001b[0;34m\u001b[0m\u001b[0;34m\u001b[0m\u001b[0;34m\u001b[0m\u001b[0m\n",
      "\u001b[0;32m~/anaconda3/lib/python3.7/site-packages/numpy/lib/npyio.py\u001b[0m in \u001b[0;36mloadtxt\u001b[0;34m(fname, dtype, comments, delimiter, converters, skiprows, usecols, unpack, ndmin, encoding, max_rows)\u001b[0m\n\u001b[1;32m    966\u001b[0m             \u001b[0mfname\u001b[0m \u001b[0;34m=\u001b[0m \u001b[0mos_fspath\u001b[0m\u001b[0;34m(\u001b[0m\u001b[0mfname\u001b[0m\u001b[0;34m)\u001b[0m\u001b[0;34m\u001b[0m\u001b[0;34m\u001b[0m\u001b[0m\n\u001b[1;32m    967\u001b[0m         \u001b[0;32mif\u001b[0m \u001b[0m_is_string_like\u001b[0m\u001b[0;34m(\u001b[0m\u001b[0mfname\u001b[0m\u001b[0;34m)\u001b[0m\u001b[0;34m:\u001b[0m\u001b[0;34m\u001b[0m\u001b[0;34m\u001b[0m\u001b[0m\n\u001b[0;32m--> 968\u001b[0;31m             \u001b[0mfh\u001b[0m \u001b[0;34m=\u001b[0m \u001b[0mnp\u001b[0m\u001b[0;34m.\u001b[0m\u001b[0mlib\u001b[0m\u001b[0;34m.\u001b[0m\u001b[0m_datasource\u001b[0m\u001b[0;34m.\u001b[0m\u001b[0mopen\u001b[0m\u001b[0;34m(\u001b[0m\u001b[0mfname\u001b[0m\u001b[0;34m,\u001b[0m \u001b[0;34m'rt'\u001b[0m\u001b[0;34m,\u001b[0m \u001b[0mencoding\u001b[0m\u001b[0;34m=\u001b[0m\u001b[0mencoding\u001b[0m\u001b[0;34m)\u001b[0m\u001b[0;34m\u001b[0m\u001b[0;34m\u001b[0m\u001b[0m\n\u001b[0m\u001b[1;32m    969\u001b[0m             \u001b[0mfencoding\u001b[0m \u001b[0;34m=\u001b[0m \u001b[0mgetattr\u001b[0m\u001b[0;34m(\u001b[0m\u001b[0mfh\u001b[0m\u001b[0;34m,\u001b[0m \u001b[0;34m'encoding'\u001b[0m\u001b[0;34m,\u001b[0m \u001b[0;34m'latin1'\u001b[0m\u001b[0;34m)\u001b[0m\u001b[0;34m\u001b[0m\u001b[0;34m\u001b[0m\u001b[0m\n\u001b[1;32m    970\u001b[0m             \u001b[0mfh\u001b[0m \u001b[0;34m=\u001b[0m \u001b[0miter\u001b[0m\u001b[0;34m(\u001b[0m\u001b[0mfh\u001b[0m\u001b[0;34m)\u001b[0m\u001b[0;34m\u001b[0m\u001b[0;34m\u001b[0m\u001b[0m\n",
      "\u001b[0;32m~/anaconda3/lib/python3.7/site-packages/numpy/lib/_datasource.py\u001b[0m in \u001b[0;36mopen\u001b[0;34m(path, mode, destpath, encoding, newline)\u001b[0m\n\u001b[1;32m    267\u001b[0m \u001b[0;34m\u001b[0m\u001b[0m\n\u001b[1;32m    268\u001b[0m     \u001b[0mds\u001b[0m \u001b[0;34m=\u001b[0m \u001b[0mDataSource\u001b[0m\u001b[0;34m(\u001b[0m\u001b[0mdestpath\u001b[0m\u001b[0;34m)\u001b[0m\u001b[0;34m\u001b[0m\u001b[0;34m\u001b[0m\u001b[0m\n\u001b[0;32m--> 269\u001b[0;31m     \u001b[0;32mreturn\u001b[0m \u001b[0mds\u001b[0m\u001b[0;34m.\u001b[0m\u001b[0mopen\u001b[0m\u001b[0;34m(\u001b[0m\u001b[0mpath\u001b[0m\u001b[0;34m,\u001b[0m \u001b[0mmode\u001b[0m\u001b[0;34m,\u001b[0m \u001b[0mencoding\u001b[0m\u001b[0;34m=\u001b[0m\u001b[0mencoding\u001b[0m\u001b[0;34m,\u001b[0m \u001b[0mnewline\u001b[0m\u001b[0;34m=\u001b[0m\u001b[0mnewline\u001b[0m\u001b[0;34m)\u001b[0m\u001b[0;34m\u001b[0m\u001b[0;34m\u001b[0m\u001b[0m\n\u001b[0m\u001b[1;32m    270\u001b[0m \u001b[0;34m\u001b[0m\u001b[0m\n\u001b[1;32m    271\u001b[0m \u001b[0;34m\u001b[0m\u001b[0m\n",
      "\u001b[0;32m~/anaconda3/lib/python3.7/site-packages/numpy/lib/_datasource.py\u001b[0m in \u001b[0;36mopen\u001b[0;34m(self, path, mode, encoding, newline)\u001b[0m\n\u001b[1;32m    621\u001b[0m                                       encoding=encoding, newline=newline)\n\u001b[1;32m    622\u001b[0m         \u001b[0;32melse\u001b[0m\u001b[0;34m:\u001b[0m\u001b[0;34m\u001b[0m\u001b[0;34m\u001b[0m\u001b[0m\n\u001b[0;32m--> 623\u001b[0;31m             \u001b[0;32mraise\u001b[0m \u001b[0mIOError\u001b[0m\u001b[0;34m(\u001b[0m\u001b[0;34m\"%s not found.\"\u001b[0m \u001b[0;34m%\u001b[0m \u001b[0mpath\u001b[0m\u001b[0;34m)\u001b[0m\u001b[0;34m\u001b[0m\u001b[0;34m\u001b[0m\u001b[0m\n\u001b[0m\u001b[1;32m    624\u001b[0m \u001b[0;34m\u001b[0m\u001b[0m\n\u001b[1;32m    625\u001b[0m \u001b[0;34m\u001b[0m\u001b[0m\n",
      "\u001b[0;31mOSError\u001b[0m: M33AnalyticOrbit.txt not found."
     ]
    }
   ],
   "source": [
    "orbit_type = np.dtype([('t', 'f8'), ('r', 'f8', 3), ('v', 'f8', 3)])\n",
    "\n",
    "# Read in Orbit of M33 relative to M31\n",
    "M33Orbit = np.loadtxt(\"M33AnalyticOrbit.txt\", dtype=orbit_type)\n",
    "\n",
    "# Read in Orbit of M33 relative to M31 Old, from Homework 7\n",
    "M33Orbit_Hmwk7 = np.loadtxt(\"M33AnalyticOrbit_Hmwk7.txt\", dtype=orbit_type)\n",
    "\n",
    "\n",
    "# Read in simulation Orbit from Homework 6\n",
    "M33SimOrbit = np.genfromtxt('Orbit_M33.txt', dtype = orbit_type)\n",
    "M31SimOrbit = np.genfromtxt('Orbit_M31.txt', dtype = orbit_type)"
   ]
  },
  {
   "cell_type": "code",
   "execution_count": 18,
   "metadata": {
    "ExecuteTime": {
     "end_time": "2020-03-16T03:08:17.670110Z",
     "start_time": "2020-03-16T03:08:17.664177Z"
    }
   },
   "outputs": [],
   "source": [
    "def relative_mag(orbit1, orbit2): # calculate relative sep or vel\n",
    "    return np.sqrt(np.sum((orbit1['r'] - orbit2['r'])**2, axis=1)), \\\n",
    "           np.sqrt(np.sum((orbit1['v'] - orbit2['v'])**2, axis=1))\n",
    "def vector_mag(orbit):\n",
    "    return np.sqrt(np.sum(orbit['r']**2, axis=1)), \\\n",
    "           np.sqrt(np.sum(orbit['v']**2, axis=1))"
   ]
  },
  {
   "cell_type": "code",
   "execution_count": 19,
   "metadata": {
    "ExecuteTime": {
     "end_time": "2020-03-16T03:08:18.051139Z",
     "start_time": "2020-03-16T03:08:18.047567Z"
    }
   },
   "outputs": [
    {
     "ename": "NameError",
     "evalue": "name 'M33Orbit' is not defined",
     "output_type": "error",
     "traceback": [
      "\u001b[0;31m---------------------------------------------------------------------------\u001b[0m",
      "\u001b[0;31mNameError\u001b[0m                                 Traceback (most recent call last)",
      "\u001b[0;32m<ipython-input-19-770df0625c17>\u001b[0m in \u001b[0;36m<module>\u001b[0;34m\u001b[0m\n\u001b[1;32m      2\u001b[0m \u001b[0;34m\u001b[0m\u001b[0m\n\u001b[1;32m      3\u001b[0m \u001b[0;31m# of MW and M31\u001b[0m\u001b[0;34m\u001b[0m\u001b[0;34m\u001b[0m\u001b[0;34m\u001b[0m\u001b[0m\n\u001b[0;32m----> 4\u001b[0;31m \u001b[0mM31_M33_R\u001b[0m\u001b[0;34m,\u001b[0m \u001b[0mM31_M33_V\u001b[0m \u001b[0;34m=\u001b[0m \u001b[0mvector_mag\u001b[0m\u001b[0;34m(\u001b[0m\u001b[0mM33Orbit\u001b[0m\u001b[0;34m)\u001b[0m\u001b[0;34m\u001b[0m\u001b[0;34m\u001b[0m\u001b[0m\n\u001b[0m\u001b[1;32m      5\u001b[0m \u001b[0;34m\u001b[0m\u001b[0m\n\u001b[1;32m      6\u001b[0m \u001b[0;31m# of MW and M31 : Homework 7\u001b[0m\u001b[0;34m\u001b[0m\u001b[0;34m\u001b[0m\u001b[0;34m\u001b[0m\u001b[0m\n",
      "\u001b[0;31mNameError\u001b[0m: name 'M33Orbit' is not defined"
     ]
    }
   ],
   "source": [
    "# Determine the magnitude of the position and velocities \n",
    "\n",
    "# of MW and M31\n",
    "M31_M33_R, M31_M33_V = vector_mag(M33Orbit)\n",
    "\n",
    "# of MW and M31 : Homework 7 \n",
    "M31_M33_R_Hmwk7, M31_M33_V_Hmwk7 = vector_mag(M33Orbit_Hmwk7)\n",
    "\n",
    "\n",
    "# of M33 and M31\n",
    "M31_M33_SimR, M31_M33_SimV = relative_mag(M31SimOrbit, M33SimOrbit)"
   ]
  },
  {
   "cell_type": "code",
   "execution_count": 20,
   "metadata": {
    "ExecuteTime": {
     "end_time": "2020-03-16T03:10:13.673083Z",
     "start_time": "2020-03-16T03:10:13.585155Z"
    }
   },
   "outputs": [
    {
     "ename": "NameError",
     "evalue": "name 'M33Orbit' is not defined",
     "output_type": "error",
     "traceback": [
      "\u001b[0;31m---------------------------------------------------------------------------\u001b[0m",
      "\u001b[0;31mNameError\u001b[0m                                 Traceback (most recent call last)",
      "\u001b[0;32m<ipython-input-20-c5d5d571cbe7>\u001b[0m in \u001b[0;36m<module>\u001b[0;34m\u001b[0m\n\u001b[1;32m      5\u001b[0m \u001b[0;34m\u001b[0m\u001b[0m\n\u001b[1;32m      6\u001b[0m \u001b[0;31m# Plot the analytical separation of M31 and M33\u001b[0m\u001b[0;34m\u001b[0m\u001b[0;34m\u001b[0m\u001b[0;34m\u001b[0m\u001b[0m\n\u001b[0;32m----> 7\u001b[0;31m \u001b[0max\u001b[0m\u001b[0;34m.\u001b[0m\u001b[0mplot\u001b[0m\u001b[0;34m(\u001b[0m\u001b[0mM33Orbit\u001b[0m\u001b[0;34m[\u001b[0m\u001b[0;34m't'\u001b[0m\u001b[0;34m]\u001b[0m\u001b[0;34m,\u001b[0m \u001b[0mM31_M33_R\u001b[0m\u001b[0;34m,\u001b[0m \u001b[0;34m'b'\u001b[0m\u001b[0;34m,\u001b[0m \u001b[0mlw\u001b[0m\u001b[0;34m=\u001b[0m\u001b[0;36m5\u001b[0m\u001b[0;34m,\u001b[0m \u001b[0mlabel\u001b[0m\u001b[0;34m=\u001b[0m\u001b[0;34m'M31-M33 Analytic'\u001b[0m\u001b[0;34m)\u001b[0m\u001b[0;34m\u001b[0m\u001b[0;34m\u001b[0m\u001b[0m\n\u001b[0m\u001b[1;32m      8\u001b[0m \u001b[0;34m\u001b[0m\u001b[0m\n\u001b[1;32m      9\u001b[0m \u001b[0;31m# Plot the simulated separation of M31 and M33\u001b[0m\u001b[0;34m\u001b[0m\u001b[0;34m\u001b[0m\u001b[0;34m\u001b[0m\u001b[0m\n",
      "\u001b[0;31mNameError\u001b[0m: name 'M33Orbit' is not defined"
     ]
    },
    {
     "data": {
      "image/png": "[encoded data removed]",
      "text/plain": [
       "<Figure size 720x720 with 1 Axes>"
      ]
     },
     "metadata": {
      "needs_background": "light"
     },
     "output_type": "display_data"
    }
   ],
   "source": [
    "# Plot the orbital separations of the galaxies \n",
    "#################################\n",
    "\n",
    "fig, ax= plt.subplots(figsize=(10, 10))\n",
    "\n",
    "# Plot the analytical separation of M31 and M33\n",
    "ax.plot(M33Orbit['t'], M31_M33_R, 'b', lw=5, label='M31-M33 Analytic')\n",
    "\n",
    "# Plot the simulated separation of M31 and M33\n",
    "ax.plot(M33SimOrbit['t'], M31_M33_SimR, 'r', lw=5, label='M31-M33 Simulation')\n",
    "\n",
    "# Plot the simulated separation of M31 and M33 from Homework 7\n",
    "ax.plot(M33Orbit_Hmwk7['t'], M31_M33_R_Hmwk7, 'g', lw=5, label='M31-M33 Analytic Hmwk7')\n",
    "\n",
    "\n",
    "# Add axis labels\n",
    "ax.set_xlabel('Time (Gyr)', fontsize=22)\n",
    "ax.set_ylabel('Separation (kpc)', fontsize=22)\n",
    "ax.set_title(\"Separations vs. Time\", fontsize=22)\n",
    "\n",
    "#adjust tick label font size\n",
    "ax.xaxis.set_tick_params(labelsize=22)\n",
    "ax.yaxis.set_tick_params(labelsize=22)\n",
    "\n",
    "# add a legend with some customizations.\n",
    "legend = ax.legend(loc='upper left',fontsize=20)\n",
    "\n",
    "plt.ylim(0, 500)\n",
    "\n",
    "# tight layout\n",
    "fig.tight_layout()\n",
    "\n",
    "# Save to a file\n",
    "fig.savefig('orbit_M33_R.pdf')"
   ]
  },
  {
   "cell_type": "code",
   "execution_count": null,
   "metadata": {
    "ExecuteTime": {
     "end_time": "2020-03-16T03:13:14.666621Z",
     "start_time": "2020-03-16T03:13:14.583039Z"
    }
   },
   "outputs": [],
   "source": [
    "# Plot the orbital velocities of the galaxies \n",
    "#################################\n",
    "\n",
    "fig, ax= plt.subplots(figsize=(12, 10))\n",
    "\n",
    "# Plot the analytical velocities of M31 and M33\n",
    "ax.plot(M33Orbit['t'], M31_M33_V, 'b', lw=5, label='M31-M33 Analytic')\n",
    "\n",
    "# Plot the simulated velocities of M31 and M33\n",
    "ax.plot(M33SimOrbit['t'], M31_M33_SimV, 'r', lw=5, label='M31-M33 Simulation')\n",
    "\n",
    "# Plot the simulated separation of M31 and M33 from Homework 7\n",
    "ax.plot(M33Orbit_Hmwk7['t'], M31_M33_V_Hmwk7, 'g', lw=5, label='M31-M33 Analytic Hmwk7')\n",
    "\n",
    "\n",
    "# Add axis labels\n",
    "ax.set_xlabel('Time (Gyr)', fontsize=22)\n",
    "ax.set_ylabel('Velocity (km/s)', fontsize=22)\n",
    "ax.set_title(\"Velocities vs. Time\", fontsize=22)\n",
    "\n",
    "#adjust tick label font size\n",
    "ax.xaxis.set_tick_params(labelsize=22)\n",
    "ax.yaxis.set_tick_params(labelsize=22)\n",
    "\n",
    "# add a legend with some customizations.\n",
    "legend = ax.legend(loc='upper left',fontsize=20)\n",
    "\n",
    "# tight layout\n",
    "fig.tight_layout()\n",
    "\n",
    "# Save to a file\n",
    "fig.savefig('orbit_M33_V.pdf')"
   ]
  },
  {
   "cell_type": "markdown",
   "metadata": {},
   "source": []
  },
  {
   "cell_type": "code",
   "execution_count": null,
   "metadata": {},
   "outputs": [],
   "source": []
  }
 ],
 "metadata": {
  "kernelspec": {
   "display_name": "Python 3",
   "language": "python",
   "name": "python3"
  },
  "language_info": {
   "codemirror_mode": {
    "name": "ipython",
    "version": 3
   },
   "file_extension": ".py",
   "mimetype": "text/x-python",
   "name": "python",
   "nbconvert_exporter": "python",
   "pygments_lexer": "ipython3",
   "version": "3.7.4"
  },
  "varInspector": {
   "cols": {
    "lenName": 16,
    "lenType": 16,
    "lenVar": 40
   },
   "kernels_config": {
    "python": {
     "delete_cmd_postfix": "",
     "delete_cmd_prefix": "del ",
     "library": "var_list.py",
     "varRefreshCmd": "print(var_dic_list())"
    },
    "r": {
     "delete_cmd_postfix": ") ",
     "delete_cmd_prefix": "rm(",
     "library": "var_list.r",
     "varRefreshCmd": "cat(var_dic_list()) "
    }
   },
   "types_to_exclude": [
    "module",
    "function",
    "builtin_function_or_method",
    "instance",
    "_Feature"
   ],
   "window_display": false
  }
 },
 "nbformat": 4,
 "nbformat_minor": 4
}
